{
 "cells": [
  {
   "cell_type": "code",
   "execution_count": 1,
   "id": "b8c01109",
   "metadata": {},
   "outputs": [],
   "source": [
    "import pandas as pd\n",
    "import numpy as np\n",
    "import matplotlib.pyplot as plt\n",
    "import matplotlib.ticker as ticker\n",
    "import textwrap\n",
    "\n",
    "# for custom system fonts\n",
    "import os\n",
    "from matplotlib import font_manager as fm"
   ]
  },
  {
   "cell_type": "code",
   "execution_count": 2,
   "id": "b895c335",
   "metadata": {},
   "outputs": [],
   "source": [
    "# grab system font\n",
    "fpath = os.path.join('/Users/marley/Library/Fonts/CENSCBK.TTF')\n",
    "prop = fm.FontProperties(fname=fpath, size=10)\n",
    "fname = os.path.split(fpath)[1]   "
   ]
  },
  {
   "cell_type": "code",
   "execution_count": 3,
   "id": "9361e897",
   "metadata": {},
   "outputs": [],
   "source": [
    "# set params for AI export\n",
    "plt.rcParams['pdf.fonttype'] = 42\n",
    "plt.rcParams['ps.fonttype'] = 42"
   ]
  },
  {
   "cell_type": "code",
   "execution_count": 4,
   "id": "f0681258",
   "metadata": {},
   "outputs": [],
   "source": [
    "folder = sorted(os.listdir('data_files'))\n",
    "\n",
    "files_ch1 = []\n",
    "files_ch2 = []\n",
    "files_ch3 = []\n",
    "files_ch7 = []\n",
    "\n",
    "for file in folder:\n",
    "    if file[2:3] == '1':\n",
    "        files_ch1.append(file)\n",
    "    elif file[2:3] == '2':\n",
    "        files_ch2.append(file)\n",
    "    elif file[2:3] == '3':\n",
    "        files_ch3.append(file)\n",
    "    elif file[2:3] == '7':\n",
    "        files_ch7.append(file)\n",
    "    else:\n",
    "        pass"
   ]
  },
  {
   "cell_type": "code",
   "execution_count": 9,
   "id": "eb6ca7c5",
   "metadata": {},
   "outputs": [],
   "source": [
    "# define key graphing functions and their scalars\n",
    "width = 0.225\n",
    "#bartextsize = 9 # will overwrite w dynamic function in main codeblock\n",
    "#bartextheight_pos = .0075 # will overwrite w dynamic function in main codeblock\n",
    "#bartextheight_neg = .035 # will overwrite w dynamic function in main codeblock\n",
    "\n",
    "# define function to add label to top of bars\n",
    "def autolabel(bars):\n",
    "    for bar in bars:\n",
    "        height = bar.get_height()\n",
    "        if height > 0:\n",
    "            labelheight = height + bartextheight_pos\n",
    "        else:\n",
    "            labelheight = height - bartextheight_neg\n",
    "        ax.annotate(str((height * 100).round(1)) + '%',\n",
    "                    xy=(bar.get_x() + bar.get_width()/2, labelheight),\n",
    "                    ha='center',\n",
    "                    fontproperties=prop,\n",
    "                    fontsize=bartextsize)\n",
    "        \n",
    "# define text wrapping function\n",
    "def wrap_labels(ax, width, break_long_words=False):\n",
    "    labels = []\n",
    "    for label in ax.get_xticklabels():\n",
    "        text = label.get_text()\n",
    "        labels.append(textwrap.fill(text, width=width,\n",
    "                                    break_long_words=break_long_words))\n",
    "    ax.set_xticklabels(labels, rotation=0) "
   ]
  },
  {
   "cell_type": "code",
   "execution_count": 158,
   "id": "4a48a657",
   "metadata": {
    "tags": []
   },
   "outputs": [],
   "source": [
    "def graph_pct_dbl(g, ylim, chars, filename, bartextheight_pos, bartextheight_neg):\n",
    "    # set graph specs\n",
    "    width = 0.225\n",
    "    legendheight = -0.2\n",
    "    title = g.index.name#[:-11]\n",
    "    \n",
    "    def autolabel(bars):\n",
    "        for bar in bars:\n",
    "            height = bar.get_height()\n",
    "            if height > 0:\n",
    "                labelheight = height + bartextheight_pos\n",
    "            else:\n",
    "                labelheight = height - bartextheight_neg\n",
    "            ax.annotate(str((height * 100).round(1)) + '%',\n",
    "                        xy=(bar.get_x() + bar.get_width()/2, labelheight),\n",
    "                        ha='center',\n",
    "                        fontproperties=prop,\n",
    "                        fontsize=bartextsize)\n",
    "    \n",
    "    # run graph code    \n",
    "    fig, ax = plt.subplots(figsize=(9,5))\n",
    "    ax.grid(visible=None, which='major', axis='y', linestyle = ':', linewidth = .75, zorder=0)\n",
    "    plt.rcParams['hatch.linewidth'] = .15\n",
    "    \n",
    "    x_metro = [x - width/2 - .02 for x in range(len(g.Urban))]\n",
    "    x_rural = [x + width/2 + .02 for x in range(len(g.Rural))]\n",
    "\n",
    "    bar1 = ax.bar(x_metro, g.Urban, width, zorder=3, label='Urban', color='black', edgecolor='black', lw=.7)\n",
    "    bar2 = ax.bar(x_rural, g.Rural, width, zorder=3, label='Rural', color='white', edgecolor='black', hatch='/////////', lw=.7)\n",
    "    ax.bar(g.index, 0)\n",
    "\n",
    "    if len(ax.get_xticklabels()) < 3:\n",
    "        bartextsize = 9.5\n",
    "        autolabel(bar1)\n",
    "        autolabel(bar2)\n",
    "\n",
    "    elif len(ax.get_xticklabels()) == 3:\n",
    "        bartextsize = 9.5\n",
    "        autolabel(bar1)\n",
    "        autolabel(bar2)\n",
    "    \n",
    "    elif len(ax.get_xticklabels()) == 4:\n",
    "        bartextsize = 9\n",
    "        autolabel(bar1)\n",
    "        autolabel(bar2)\n",
    "    \n",
    "    elif len(ax.get_xticklabels()) == 5:\n",
    "        bartextsize = 7.5\n",
    "        autolabel(bar1)\n",
    "        autolabel(bar2)\n",
    "\n",
    "    elif len(ax.get_xticklabels()) > 5:\n",
    "        pass\n",
    "    \n",
    "    ax.set_title(title, fontproperties=prop, size=12)\n",
    "    ax.tick_params(axis='both', left=False, bottom=False) # remove Y axis ticks\n",
    "    ax.yaxis.set_major_formatter(ticker.PercentFormatter(xmax=1, decimals=0)) # turn y axis decimals into %s\n",
    "\n",
    "    for label in ax.get_yticklabels():\n",
    "        label.set_fontproperties(prop)\n",
    "        label.set_fontsize(8) \n",
    "\n",
    "    for label in ax.get_xticklabels():\n",
    "        label.set_fontproperties(prop)\n",
    "        label.set_fontsize(9)   \n",
    "    \n",
    "    ax.spines['top'].set_visible(False)\n",
    "    ax.spines['right'].set_visible(False)\n",
    "    ax.spines['bottom'].set_visible(True)\n",
    "    ax.spines['left'].set_visible(False)\n",
    "\n",
    "    xlabels = []\n",
    "    for label in g.index:\n",
    "        xlabels.append(textwrap.fill(label, width=chars, break_long_words=False))\n",
    "\n",
    "    ax.set(ylim=(ylim))\n",
    "    plt.xticks(ticks=range(0,len(g)), labels=xlabels)\n",
    "\n",
    "    lines = []\n",
    "    for label in ax.get_xticklabels():\n",
    "        lines.append(str(label).count('\\\\n'))\n",
    "    \n",
    "    if max(lines) == 1:\n",
    "        legendheight = -0.225\n",
    "    elif max(lines) == 2:\n",
    "        legendheight = -0.25\n",
    "    else:\n",
    "        pass\n",
    "\n",
    "    ax.legend(prop=prop, loc='lower center', bbox_to_anchor=(0.5, legendheight), frameon=False, ncol=len(g.columns))\n",
    "    plt.show()\n",
    "    \n",
    "    ax.get_figure().savefig('graphics/jpgs/' + filename + '.jpg', dpi=600, bbox_inches='tight')\n",
    "    ax.get_figure().savefig('graphics/pdfs/' + filename + '.pdf', dpi=600, bbox_inches='tight')"
   ]
  },
  {
   "cell_type": "code",
   "execution_count": 122,
   "id": "57291993",
   "metadata": {},
   "outputs": [
    {
     "data": {
      "text/plain": [
       "['ch1_fig1.csv',\n",
       " 'ch1_fig10.csv',\n",
       " 'ch1_fig11.csv',\n",
       " 'ch1_fig12.csv',\n",
       " 'ch1_fig13.csv',\n",
       " 'ch1_fig2.csv',\n",
       " 'ch1_fig3.csv',\n",
       " 'ch1_fig4.csv',\n",
       " 'ch1_fig5.csv',\n",
       " 'ch1_fig6.csv',\n",
       " 'ch1_fig7.csv',\n",
       " 'ch1_fig8.csv',\n",
       " 'ch1_fig9.csv']"
      ]
     },
     "execution_count": 122,
     "metadata": {},
     "output_type": "execute_result"
    }
   ],
   "source": [
    "files_ch1"
   ]
  },
  {
   "cell_type": "code",
   "execution_count": 178,
   "id": "f59d9260",
   "metadata": {},
   "outputs": [
    {
     "data": {
      "image/png": "[encoded data removed]",
      "text/plain": [
       "<Figure size 648x360 with 1 Axes>"
      ]
     },
     "metadata": {
      "needs_background": "light"
     },
     "output_type": "display_data"
    }
   ],
   "source": [
    "path = 'data_files/'\n",
    "file = 'ch1_fig1'\n",
    "g = pd.read_csv(path + file + '.csv')\n",
    "g = g.set_index(g.iloc[:,0])\n",
    "g = g.drop(g.iloc[:,0].name, axis=1)\n",
    "\n",
    "ylim=(0, 1)\n",
    "chars=18\n",
    "bartextheight_pos = (g.mean().mean() * 1.6) / 100\n",
    "bartextheight_neg = .0075\n",
    "\n",
    "graph_pct_dbl(g, ylim, chars, file, bartextheight_pos, bartextheight_neg)"
   ]
  },
  {
   "cell_type": "code",
   "execution_count": 182,
   "id": "26786679",
   "metadata": {},
   "outputs": [
    {
     "data": {
      "image/png": "[encoded data removed]",
      "text/plain": [
       "<Figure size 648x360 with 1 Axes>"
      ]
     },
     "metadata": {
      "needs_background": "light"
     },
     "output_type": "display_data"
    }
   ],
   "source": [
    "path = 'data_files/'\n",
    "file = 'ch1_fig2'\n",
    "g = pd.read_csv(path + file + '.csv')\n",
    "g = g.set_index(g.iloc[:,0])\n",
    "g = g.drop(g.iloc[:,0].name, axis=1)\n",
    "\n",
    "ylim=(0, g.max().max() * 1.4)\n",
    "chars=5\n",
    "bartextheight_pos = (g.mean().mean() * 1.6) / 100\n",
    "bartextheight_neg = .0075\n",
    "\n",
    "graph_pct_dbl(g, ylim, chars, file, bartextheight_pos, bartextheight_neg)"
   ]
  },
  {
   "cell_type": "code",
   "execution_count": 183,
   "id": "a4c90f56",
   "metadata": {},
   "outputs": [
    {
     "data": {
      "image/png": "[encoded data removed]",
      "text/plain": [
       "<Figure size 648x360 with 1 Axes>"
      ]
     },
     "metadata": {
      "needs_background": "light"
     },
     "output_type": "display_data"
    }
   ],
   "source": [
    "path = 'data_files/'\n",
    "file = 'ch1_fig3'\n",
    "g = pd.read_csv(path + file + '.csv')\n",
    "g = g.set_index(g.iloc[:,0])\n",
    "g = g.drop(g.iloc[:,0].name, axis=1)\n",
    "\n",
    "ylim=(0, g.max().max() * 1.4)\n",
    "chars=18\n",
    "bartextheight_pos = (g.mean().mean() * 1.6) / 100\n",
    "bartextheight_neg = .0075\n",
    "\n",
    "graph_pct_dbl(g, ylim, chars, file, bartextheight_pos, bartextheight_neg)"
   ]
  },
  {
   "cell_type": "code",
   "execution_count": 184,
   "id": "0f3f5dd4",
   "metadata": {},
   "outputs": [
    {
     "data": {
      "image/png": "[encoded data removed]",
      "text/plain": [
       "<Figure size 648x360 with 1 Axes>"
      ]
     },
     "metadata": {
      "needs_background": "light"
     },
     "output_type": "display_data"
    }
   ],
   "source": [
    "path = 'data_files/'\n",
    "file = 'ch1_fig4'\n",
    "g = pd.read_csv(path + file + '.csv')\n",
    "g = g.set_index(g.iloc[:,0])\n",
    "g = g.drop(g.iloc[:,0].name, axis=1)\n",
    "\n",
    "ylim=(0, g.max().max() * 1.4)\n",
    "chars=18\n",
    "bartextheight_pos = (g.mean().mean() * 1.6) / 100\n",
    "bartextheight_neg = .0075\n",
    "\n",
    "graph_pct_dbl(g, ylim, chars, file, bartextheight_pos, bartextheight_neg)"
   ]
  },
  {
   "cell_type": "code",
   "execution_count": 185,
   "id": "b1c5b668",
   "metadata": {},
   "outputs": [
    {
     "data": {
      "image/png": "[encoded data removed]",
      "text/plain": [
       "<Figure size 648x360 with 1 Axes>"
      ]
     },
     "metadata": {
      "needs_background": "light"
     },
     "output_type": "display_data"
    }
   ],
   "source": [
    "path = 'data_files/'\n",
    "file = 'ch1_fig5'\n",
    "g = pd.read_csv(path + file + '.csv')\n",
    "g = g.set_index(g.iloc[:,0])\n",
    "g = g.drop(g.iloc[:,0].name, axis=1)\n",
    "\n",
    "ylim=(0, g.max().max() * 1.4)\n",
    "chars=18\n",
    "bartextheight_pos = (g.mean().mean() * 1.6) / 100\n",
    "bartextheight_neg = .0075\n",
    "\n",
    "graph_pct_dbl(g, ylim, chars, file, bartextheight_pos, bartextheight_neg)"
   ]
  },
  {
   "cell_type": "code",
   "execution_count": 190,
   "id": "62c8bcae",
   "metadata": {},
   "outputs": [
    {
     "data": {
      "image/png": "[encoded data removed]",
      "text/plain": [
       "<Figure size 648x360 with 1 Axes>"
      ]
     },
     "metadata": {
      "needs_background": "light"
     },
     "output_type": "display_data"
    }
   ],
   "source": [
    "path = 'data_files/'\n",
    "file = 'ch1_fig6'\n",
    "g = pd.read_csv(path + file + '.csv')\n",
    "g = g.set_index(g.iloc[:,0])\n",
    "g = g.drop(g.iloc[:,0].name, axis=1)\n",
    "\n",
    "ylim=(0, g.max().max() * 1.4)\n",
    "chars=20\n",
    "bartextheight_pos = (g.mean().mean() * 1.6) / 100\n",
    "bartextheight_neg = .0075\n",
    "\n",
    "graph_pct_dbl(g, ylim, chars, file, bartextheight_pos, bartextheight_neg)"
   ]
  },
  {
   "cell_type": "code",
   "execution_count": 192,
   "id": "e6c8a2e2",
   "metadata": {},
   "outputs": [
    {
     "data": {
      "image/png": "[encoded data removed]",
      "text/plain": [
       "<Figure size 648x360 with 1 Axes>"
      ]
     },
     "metadata": {
      "needs_background": "light"
     },
     "output_type": "display_data"
    }
   ],
   "source": [
    "path = 'data_files/'\n",
    "file = 'ch1_fig7'\n",
    "g = pd.read_csv(path + file + '.csv')\n",
    "g = g.set_index(g.iloc[:,0])\n",
    "g = g.drop(g.iloc[:,0].name, axis=1)\n",
    "\n",
    "ylim=(0, g.max().max() * 1.4)\n",
    "chars=20\n",
    "bartextheight_pos = (g.mean().mean() * 1.6) / 100\n",
    "bartextheight_neg = .0075\n",
    "\n",
    "graph_pct_dbl(g, ylim, chars, file, bartextheight_pos, bartextheight_neg)"
   ]
  },
  {
   "cell_type": "code",
   "execution_count": 193,
   "id": "16a72f70",
   "metadata": {},
   "outputs": [
    {
     "data": {
      "image/png": "[encoded data removed]",
      "text/plain": [
       "<Figure size 648x360 with 1 Axes>"
      ]
     },
     "metadata": {
      "needs_background": "light"
     },
     "output_type": "display_data"
    }
   ],
   "source": [
    "path = 'data_files/'\n",
    "file = 'ch1_fig8'\n",
    "g = pd.read_csv(path + file + '.csv')\n",
    "g = g.set_index(g.iloc[:,0])\n",
    "g = g.drop(g.iloc[:,0].name, axis=1)\n",
    "\n",
    "ylim=(0, g.max().max() * 1.4)\n",
    "chars=20\n",
    "bartextheight_pos = (g.mean().mean() * 1.6) / 100\n",
    "bartextheight_neg = .0075\n",
    "\n",
    "graph_pct_dbl(g, ylim, chars, file, bartextheight_pos, bartextheight_neg)"
   ]
  },
  {
   "cell_type": "code",
   "execution_count": 194,
   "id": "b2f3701d",
   "metadata": {},
   "outputs": [
    {
     "data": {
      "image/png": "[encoded data removed]",
      "text/plain": [
       "<Figure size 648x360 with 1 Axes>"
      ]
     },
     "metadata": {
      "needs_background": "light"
     },
     "output_type": "display_data"
    }
   ],
   "source": [
    "path = 'data_files/'\n",
    "file = 'ch1_fig9'\n",
    "g = pd.read_csv(path + file + '.csv')\n",
    "g = g.set_index(g.iloc[:,0])\n",
    "g = g.drop(g.iloc[:,0].name, axis=1)\n",
    "\n",
    "ylim=(0, g.max().max() * 1.4)\n",
    "chars=20\n",
    "bartextheight_pos = (g.mean().mean() * 1.6) / 100\n",
    "bartextheight_neg = .0075\n",
    "\n",
    "graph_pct_dbl(g, ylim, chars, file, bartextheight_pos, bartextheight_neg)"
   ]
  },
  {
   "cell_type": "code",
   "execution_count": 195,
   "id": "57cc4b20",
   "metadata": {},
   "outputs": [
    {
     "data": {
      "image/png": "[encoded data removed]",
      "text/plain": [
       "<Figure size 648x360 with 1 Axes>"
      ]
     },
     "metadata": {
      "needs_background": "light"
     },
     "output_type": "display_data"
    }
   ],
   "source": [
    "path = 'data_files/'\n",
    "file = 'ch1_fig10'\n",
    "g = pd.read_csv(path + file + '.csv')\n",
    "g = g.set_index(g.iloc[:,0])\n",
    "g = g.drop(g.iloc[:,0].name, axis=1)\n",
    "\n",
    "ylim=(0, g.max().max() * 1.4)\n",
    "chars=20\n",
    "bartextheight_pos = (g.mean().mean() * 1.6) / 100\n",
    "bartextheight_neg = .0075\n",
    "\n",
    "graph_pct_dbl(g, ylim, chars, file, bartextheight_pos, bartextheight_neg)"
   ]
  },
  {
   "cell_type": "code",
   "execution_count": 196,
   "id": "defe7a07",
   "metadata": {},
   "outputs": [
    {
     "data": {
      "image/png": "[encoded data removed]",
      "text/plain": [
       "<Figure size 648x360 with 1 Axes>"
      ]
     },
     "metadata": {
      "needs_background": "light"
     },
     "output_type": "display_data"
    }
   ],
   "source": [
    "path = 'data_files/'\n",
    "file = 'ch1_fig11'\n",
    "g = pd.read_csv(path + file + '.csv')\n",
    "g = g.set_index(g.iloc[:,0])\n",
    "g = g.drop(g.iloc[:,0].name, axis=1)\n",
    "\n",
    "ylim=(0, g.max().max() * 1.4)\n",
    "chars=20\n",
    "bartextheight_pos = (g.mean().mean() * 1.6) / 100\n",
    "bartextheight_neg = .0075\n",
    "\n",
    "graph_pct_dbl(g, ylim, chars, file, bartextheight_pos, bartextheight_neg)"
   ]
  },
  {
   "cell_type": "code",
   "execution_count": 202,
   "id": "ca54ded6",
   "metadata": {},
   "outputs": [
    {
     "data": {
      "image/png": "[encoded data removed]",
      "text/plain": [
       "<Figure size 648x360 with 1 Axes>"
      ]
     },
     "metadata": {
      "needs_background": "light"
     },
     "output_type": "display_data"
    }
   ],
   "source": [
    "path = 'data_files/'\n",
    "file = 'ch1_fig12'\n",
    "g = pd.read_csv(path + file + '.csv')\n",
    "g = g.set_index(g.iloc[:,0])\n",
    "g = g.drop(g.iloc[:,0].name, axis=1)\n",
    "\n",
    "ylim=(0, g.max().max() * 1.4)\n",
    "chars=20\n",
    "bartextheight_pos = (g.mean().mean() * 2) / 100\n",
    "bartextheight_neg = .0075\n",
    "\n",
    "graph_pct_dbl(g, ylim, chars, file, bartextheight_pos, bartextheight_neg)"
   ]
  },
  {
   "cell_type": "code",
   "execution_count": 205,
   "id": "0d55cd78",
   "metadata": {},
   "outputs": [
    {
     "data": {
      "image/png": "[encoded data removed]",
      "text/plain": [
       "<Figure size 648x360 with 1 Axes>"
      ]
     },
     "metadata": {
      "needs_background": "light"
     },
     "output_type": "display_data"
    }
   ],
   "source": [
    "path = 'data_files/'\n",
    "file = 'ch1_fig13'\n",
    "g = pd.read_csv(path + file + '.csv')\n",
    "g = g.set_index(g.iloc[:,0])\n",
    "g = g.drop(g.iloc[:,0].name, axis=1)\n",
    "\n",
    "ylim=(0, g.max().max() * 1.4)\n",
    "chars=20\n",
    "bartextheight_pos = (g.mean().mean() * 1.4) / 100\n",
    "bartextheight_neg = .0075\n",
    "\n",
    "graph_pct_dbl(g, ylim, chars, file, bartextheight_pos, bartextheight_neg)"
   ]
  },
  {
   "cell_type": "raw",
   "id": "08ddc1fc",
   "metadata": {},
   "source": [
    "# for loop works, but doesn't allow for much detailed design work\n",
    "\n",
    "for file in files_ch1:\n",
    "    path = 'data_files/'\n",
    "    g = pd.read_csv(path + file[:-4] + '.csv')\n",
    "    g = g.set_index(g.iloc[:,0])\n",
    "    g = g.drop(g.iloc[:,0].name, axis=1)\n",
    "    ylim=(0, (g.max().max() * 1.7))\n",
    "    chars=18\n",
    "\n",
    "    graph_pct_dbl(g, ylim, chars, file)"
   ]
  },
  {
   "cell_type": "code",
   "execution_count": 11,
   "id": "f2bec4c8",
   "metadata": {},
   "outputs": [],
   "source": [
    "# export when perfect\n",
    "ax.get_figure().savefig('graphics/jpgs/' + file + '.jpg', dpi=600, bbox_inches='tight')\n",
    "ax.get_figure().savefig('graphics/pdfs/' + file + '.pdf', dpi=600, bbox_inches='tight')"
   ]
  },
  {
   "cell_type": "markdown",
   "id": "21372525",
   "metadata": {},
   "source": [
    "## Chapter 2"
   ]
  },
  {
   "cell_type": "code",
   "execution_count": null,
   "id": "00e83dbc",
   "metadata": {},
   "outputs": [],
   "source": [
    "# load file\n",
    "path = 'data_files/'\n",
    "n = n + 1\n",
    "file = files_ch2[n]\n",
    "print(file)\n",
    "\n",
    "g = pd.read_csv(path + file)\n",
    "g = g.set_index(g.iloc[:,0])\n",
    "g = g.drop(g.iloc[:,0].name, axis=1)\n",
    "g = g.dropna()\n",
    "g"
   ]
  },
  {
   "cell_type": "markdown",
   "id": "94ef4c97",
   "metadata": {},
   "source": [
    "### % graph"
   ]
  },
  {
   "cell_type": "code",
   "execution_count": null,
   "id": "e8bbe9bd",
   "metadata": {},
   "outputs": [],
   "source": [
    "# set graph specs\n",
    "width = 0.225\n",
    "legendheight = -0.2\n",
    "title = g.index.name#[:-11]\n",
    "filename = file[:-4]\n",
    "#ylim = (0, g.max().max() * 1.5)\n",
    "#ylim = (0, 1)\n",
    "ylim = (-.5, .5)\n",
    "\n",
    "# run graph code    \n",
    "fig, ax = plt.subplots(figsize=(9,5))\n",
    "ax.grid(visible=None, which='major', axis='y', linestyle = ':', linewidth = .75, zorder=0)\n",
    "plt.rcParams['hatch.linewidth'] = .15\n",
    "    \n",
    "x_metro = [x - width/2 - .02 for x in range(len(g.Urban))]\n",
    "x_rural = [x + width/2 + .02 for x in range(len(g.Rural))]\n",
    "\n",
    "bar1 = ax.bar(x_metro, g.Urban, width, zorder=3, label='Urban', color='black', edgecolor='black', lw=.7)\n",
    "bar2 = ax.bar(x_rural, g.Rural, width, zorder=3, label='Rural', color='white', edgecolor='black', hatch='/////////', lw=.7)\n",
    "ax.bar(g.index, 0)\n",
    "\n",
    "if len(ax.get_xticklabels()) < 3:\n",
    "    bartextsize = 9.5\n",
    "    bartextheight_pos = .0015\n",
    "    bartextheight_neg = .035\n",
    "    autolabel(bar1)\n",
    "    autolabel(bar2)\n",
    "\n",
    "elif len(ax.get_xticklabels()) == 3:\n",
    "    bartextsize = 9.5\n",
    "    bartextheight_pos = .0045\n",
    "    bartextheight_neg = .035\n",
    "    autolabel(bar1)\n",
    "    autolabel(bar2)\n",
    "    \n",
    "elif len(ax.get_xticklabels()) == 4:\n",
    "    bartextsize = 9\n",
    "    bartextheight_pos = .0075\n",
    "    bartextheight_neg = .035\n",
    "    autolabel(bar1)\n",
    "    autolabel(bar2)\n",
    "    \n",
    "elif len(ax.get_xticklabels()) == 5:\n",
    "    bartextsize = 7.5\n",
    "    bartextheight_pos = .0075\n",
    "    bartextheight_neg = .035\n",
    "    autolabel(bar1)\n",
    "    autolabel(bar2)\n",
    "\n",
    "elif len(ax.get_xticklabels()) > 5:\n",
    "    pass\n",
    "    \n",
    "ax.set_title(title, fontproperties=prop, size=12)\n",
    "ax.tick_params(axis='both', left=False, bottom=False) # remove Y axis ticks\n",
    "ax.yaxis.set_major_formatter(ticker.PercentFormatter(xmax=1, decimals=0)) # turn y axis decimals into %s\n",
    "\n",
    "for label in ax.get_yticklabels():\n",
    "    label.set_fontproperties(prop)\n",
    "    label.set_fontsize(8) \n",
    "    \n",
    "for label in ax.get_xticklabels():\n",
    "    label.set_fontproperties(prop)\n",
    "    label.set_fontsize(9)   \n",
    "    \n",
    "ax.legend(prop=prop, loc='lower center', bbox_to_anchor=(0.5, legendheight), frameon=False, ncol=len(g.columns))\n",
    "    \n",
    "ax.spines['top'].set_visible(False)\n",
    "ax.spines['right'].set_visible(False)\n",
    "ax.spines['bottom'].set_visible(True)\n",
    "ax.spines['left'].set_visible(False)\n",
    "\n",
    "ax.set(ylim=(ylim))\n",
    "\n",
    "plt.show()"
   ]
  },
  {
   "cell_type": "code",
   "execution_count": null,
   "id": "0a12fab1",
   "metadata": {},
   "outputs": [],
   "source": [
    "# export when perfect\n",
    "ax.get_figure().savefig('graphics/jpgs/' + filename + '.jpg', dpi=600, bbox_inches='tight')\n",
    "ax.get_figure().savefig('graphics/pdfs/' + filename + '.pdf', dpi=600, bbox_inches='tight')"
   ]
  },
  {
   "cell_type": "code",
   "execution_count": null,
   "id": "3346ec24",
   "metadata": {},
   "outputs": [],
   "source": [
    "# if not, run this code to wrap text and adjust legend\n",
    "chars = 15\n",
    "positions = range(0, len(g.index))\n",
    "\n",
    "ax.xaxis.set_major_locator(ticker.FixedLocator(positions))\n",
    "wrap_labels(ax, chars)\n",
    "\n",
    "\n",
    "lines = []\n",
    "for label in ax.get_xticklabels():\n",
    "    lines.append(str(label).count('\\\\n'))\n",
    "    \n",
    "if max(lines) == 1:\n",
    "    legendheight = -0.225\n",
    "elif max(lines) == 2:\n",
    "    legendheight = -0.25\n",
    "else:\n",
    "    pass\n",
    "\n",
    "ax.legend(prop=prop, loc='lower center', bbox_to_anchor=(0.5, legendheight), frameon=False, ncol=len(g.columns))\n",
    "\n",
    "ax.figure"
   ]
  },
  {
   "cell_type": "code",
   "execution_count": null,
   "id": "edd8ebfe",
   "metadata": {},
   "outputs": [],
   "source": [
    "# export when perfect\n",
    "ax.get_figure().savefig('graphics/jpgs/' + filename + '.jpg', dpi=600, bbox_inches='tight')\n",
    "ax.get_figure().savefig('graphics/pdfs/' + filename + '.pdf', dpi=600, bbox_inches='tight')"
   ]
  },
  {
   "cell_type": "markdown",
   "id": "d206c9c6",
   "metadata": {},
   "source": [
    "### $ graph (ch2_fig14)"
   ]
  },
  {
   "cell_type": "code",
   "execution_count": null,
   "id": "9a57b197",
   "metadata": {},
   "outputs": [],
   "source": [
    "# set graph specs\n",
    "width = 0.225\n",
    "legendheight = -0.2\n",
    "title = g.index.name#[:-11]\n",
    "filename = file[:-4]\n",
    "ylim = (0, g.max().max() * 1.5)\n",
    "#ylim = (0, 1)\n",
    "#ylim = (-.5, .5)\n",
    "\n",
    "\n",
    "# define function to add label to top of bars\n",
    "def autolabel(bars):\n",
    "    for bar in bars:\n",
    "        height = bar.get_height()\n",
    "        ax.annotate('$' + str((height)),\n",
    "                    xy=(bar.get_x() + bar.get_width()/2, height + 0.01),\n",
    "                    ha='center',\n",
    "                    fontproperties=prop,\n",
    "                    fontsize=bartextsize)\n",
    "\n",
    "fig, ax = plt.subplots(figsize=(9,5))\n",
    "ax.grid(visible=None, which='major', axis='y', linestyle = ':', linewidth = .75, zorder=0)\n",
    "plt.rcParams['hatch.linewidth'] = .15\n",
    "    \n",
    "x_metro = [x - width/2 - .02 for x in range(len(g.Urban))]\n",
    "x_rural = [x + width/2 + .02 for x in range(len(g.Rural))]\n",
    "\n",
    "bar1 = ax.bar(x_metro, g.Urban, width, zorder=3, label='Urban', color='black', edgecolor='black', lw=.7)\n",
    "bar2 = ax.bar(x_rural, g.Rural, width, zorder=3, label='Rural', color='white', edgecolor='black', hatch='/////////', lw=.7)\n",
    "ax.bar(g.index, 0)\n",
    "\n",
    "#autolabel(bar1)\n",
    "#autolabel(bar2)\n",
    "    \n",
    "ax.set_title(title, fontproperties=prop, size=12)\n",
    "#ax.set_ylabel(ytitle, fontproperties=prop) # set title and font\n",
    "ax.tick_params(axis='both', left=False, bottom=False) # remove Y axis ticks\n",
    "#ax.yaxis.set_major_formatter(ticker.PercentFormatter(xmax=1, decimals=0)) # turn y axis decimals into %s\n",
    "ax.set_yticklabels(['$' + '{:,.0f}'.format(x) for x in ax.get_yticks()])\n",
    "\n",
    "for label in ax.get_yticklabels():\n",
    "    label.set_fontproperties(prop)\n",
    "    label.set_fontsize(8) \n",
    "    \n",
    "for label in ax.get_xticklabels():\n",
    "    label.set_fontproperties(prop)\n",
    "    label.set_fontsize(9)   \n",
    "    \n",
    "ax.legend(prop=prop, loc='lower center', bbox_to_anchor=(0.5, legendheight), frameon=False, ncol=len(g.columns))\n",
    "    \n",
    "ax.spines['top'].set_visible(False)\n",
    "ax.spines['right'].set_visible(False)\n",
    "ax.spines['bottom'].set_visible(True)\n",
    "ax.spines['left'].set_visible(False)\n",
    "\n",
    "ax.set(ylim=ylim)\n",
    "plt.show()"
   ]
  },
  {
   "cell_type": "code",
   "execution_count": null,
   "id": "3610b0ab",
   "metadata": {},
   "outputs": [],
   "source": [
    "# if not, run this code to wrap text and adjust legend\n",
    "chars = 5\n",
    "positions = range(0, len(g.index))\n",
    "\n",
    "ax.xaxis.set_major_locator(ticker.FixedLocator(positions))\n",
    "wrap_labels(ax, chars)\n",
    "\n",
    "\n",
    "lines = []\n",
    "for label in ax.get_xticklabels():\n",
    "    lines.append(str(label).count('\\\\n'))\n",
    "    \n",
    "if max(lines) == 1:\n",
    "    legendheight = -0.225\n",
    "elif max(lines) == 2:\n",
    "    legendheight = -0.25\n",
    "else:\n",
    "    pass\n",
    "\n",
    "ax.legend(prop=prop, loc='lower center', bbox_to_anchor=(0.5, legendheight), frameon=False, ncol=len(g.columns))\n",
    "\n",
    "ax.figure"
   ]
  },
  {
   "cell_type": "code",
   "execution_count": null,
   "id": "7ee94f99",
   "metadata": {},
   "outputs": [],
   "source": [
    "# export when perfect\n",
    "ax.get_figure().savefig('graphics/jpgs/' + filename + '.jpg', dpi=600, bbox_inches='tight')\n",
    "ax.get_figure().savefig('graphics/pdfs/' + filename + '.pdf', dpi=600, bbox_inches='tight')"
   ]
  },
  {
   "cell_type": "markdown",
   "id": "a5880dfc",
   "metadata": {},
   "source": [
    "### time series graph"
   ]
  },
  {
   "cell_type": "code",
   "execution_count": null,
   "id": "e76c0edd",
   "metadata": {},
   "outputs": [],
   "source": [
    "u = g.iloc[:,0:8]\n",
    "r = g.iloc[:,8:]\n",
    "r.columns = u.columns"
   ]
  },
  {
   "cell_type": "code",
   "execution_count": null,
   "id": "03d6d88e",
   "metadata": {},
   "outputs": [],
   "source": [
    "# set graph specs\n",
    "legendheight = -0.2\n",
    "#title = 'Median County Educational Attainment'\n",
    "title = 'Median County Income Inequality'\n",
    "filename = file[:-4]\n",
    "\n",
    "# define text wrapping function\n",
    "def wrap_labels(ax, width, break_long_words=False):\n",
    "    labels = []\n",
    "    for label in ax.get_xticklabels():\n",
    "        text = label.get_text()\n",
    "        labels.append(textwrap.fill(text, width=width,\n",
    "                                    break_long_words=break_long_words))\n",
    "    ax.set_xticklabels(labels, rotation=0) \n",
    "    \n",
    "fig, ax = plt.subplots(figsize=(9,5))\n",
    "ax.grid(visible=None, which='major', axis='y', linestyle = ':', linewidth = .75, zorder=0)\n",
    "    \n",
    "line1 = ax.plot(u.iloc[:,-1], zorder=3, color='black', lw=1, label='Urban')\n",
    "line1 = ax.plot(r.iloc[:,-1], zorder=3, color='black', lw=1, ls='--', label='Rural')\n",
    "ax.bar(g.index, 0)\n",
    "   \n",
    "ax.set_title(title, fontproperties=prop, size=12)\n",
    "ax.tick_params(axis='both', left=False, bottom=True) # remove Y axis ticks\n",
    "ax.yaxis.set_major_formatter(ticker.PercentFormatter(xmax=1, decimals=0)) # turn y axis decimals into %s\n",
    "\n",
    "for label in ax.get_yticklabels():\n",
    "    label.set_fontproperties(prop)\n",
    "    label.set_fontsize(8) \n",
    "    \n",
    "for label in ax.get_xticklabels():\n",
    "    label.set_fontproperties(prop)\n",
    "    label.set_fontsize(9)   \n",
    "\n",
    "ax.legend(prop=prop, loc='lower center', bbox_to_anchor=(0.5, legendheight), frameon=False, ncol=2)\n",
    "    \n",
    "ax.spines['top'].set_visible(False)\n",
    "ax.spines['right'].set_visible(False)\n",
    "ax.spines['bottom'].set_visible(True)\n",
    "ax.spines['left'].set_visible(False)\n",
    "\n",
    "plt.xticks(ticks=[1990, 2000, 2010, 2019], labels=['1990', '2000', '2010', '2019'])\n",
    "\n",
    "ax.set(ylim=(0, .33), xlim=(1989,2020))\n",
    "plt.show()"
   ]
  },
  {
   "cell_type": "code",
   "execution_count": null,
   "id": "e046e198",
   "metadata": {},
   "outputs": [],
   "source": [
    "# export when perfect\n",
    "ax.get_figure().savefig('graphics/jpgs/' + filename + '.jpg', dpi=600, bbox_inches='tight')\n",
    "ax.get_figure().savefig('graphics/pdfs/' + filename + '.pdf', dpi=600, bbox_inches='tight')"
   ]
  },
  {
   "cell_type": "markdown",
   "id": "8d295b60",
   "metadata": {},
   "source": [
    "### special comparisons"
   ]
  },
  {
   "cell_type": "markdown",
   "id": "8d20c821",
   "metadata": {},
   "source": [
    "#### Pittsburgh"
   ]
  },
  {
   "cell_type": "code",
   "execution_count": null,
   "id": "62bc9457",
   "metadata": {},
   "outputs": [],
   "source": [
    "# set graph specs\n",
    "legendheight = -0.2\n",
    "width = 0.225\n",
    "title = g.index.name\n",
    "bartextsize = 9\n",
    "filename = file[:-4]\n",
    "\n",
    "# define function to add label to top of bars\n",
    "def autolabel(bars):\n",
    "    for bar in bars:\n",
    "        height = bar.get_height()\n",
    "        ax.annotate(str((height * 100).round(1)) + '%',\n",
    "                    xy=(bar.get_x() + bar.get_width()/2, height + 0.003),\n",
    "                    ha='center',\n",
    "                    fontproperties=prop,\n",
    "                    fontsize=bartextsize)\n",
    "        \n",
    "# define text wrapping function\n",
    "def wrap_labels(ax, width, break_long_words=False):\n",
    "    labels = []\n",
    "    for label in ax.get_xticklabels():\n",
    "        text = label.get_text()\n",
    "        labels.append(textwrap.fill(text, width=width,\n",
    "                                    break_long_words=break_long_words))\n",
    "    ax.set_xticklabels(labels, rotation=0) \n",
    "    \n",
    "fig, ax = plt.subplots(figsize=(9,5))\n",
    "ax.grid(visible=None, which='major', axis='y', linestyle = ':', linewidth = .75, zorder=0)\n",
    "plt.rcParams['hatch.linewidth'] = .15\n",
    "    \n",
    "x1 = [x - width/2 - .02 for x in range(len(g))]\n",
    "x2 = [x + width/2 + .02 for x in range(len(g))]\n",
    "\n",
    "bar1 = ax.bar(x1[:3], g.iloc[:3,0], width, zorder=3, label='< $10k/yr', color='black', edgecolor='black', lw=.7)\n",
    "bar2 = ax.bar(x2[:3], g.iloc[:3,1], width, zorder=3, label='≥ $150k/yr', color='white', edgecolor='black', hatch='/////////', lw=.7)\n",
    "ax.bar(g.iloc[:3,0].index, 0)\n",
    "\n",
    "autolabel(bar1)\n",
    "autolabel(bar2)\n",
    "    \n",
    "ax.set_title(title, fontproperties=prop, size=12)\n",
    "#ax.set_ylabel(ytitle, fontproperties=prop) # set title and font\n",
    "ax.tick_params(axis='both', left=False, bottom=False) # remove Y axis ticks\n",
    "ax.yaxis.set_major_formatter(ticker.PercentFormatter(xmax=1, decimals=0)) # turn y axis decimals into %s\n",
    "\n",
    "for label in ax.get_yticklabels():\n",
    "    label.set_fontproperties(prop)\n",
    "    label.set_fontsize(8) \n",
    "    \n",
    "for label in ax.get_xticklabels():\n",
    "    label.set_fontproperties(prop)\n",
    "    label.set_fontsize(9)   \n",
    "    \n",
    "ax.legend(prop=prop, loc='lower center', bbox_to_anchor=(0.5, legendheight), frameon=False, ncol=len(g.columns))\n",
    "    \n",
    "ax.spines['top'].set_visible(False)\n",
    "ax.spines['right'].set_visible(False)\n",
    "ax.spines['bottom'].set_visible(True)\n",
    "ax.spines['left'].set_visible(False)\n",
    "\n",
    "ax.set(ylim=(0, (g.max().max() * 1.2).round(2)))\n",
    "#ax.set(ylim=(0,.1))\n",
    "plt.show()"
   ]
  },
  {
   "cell_type": "code",
   "execution_count": null,
   "id": "66647e53",
   "metadata": {},
   "outputs": [],
   "source": [
    "# if not, run this code to wrap text and export\n",
    "positions = range(0,len(g.iloc[:5].index))\n",
    "ax.xaxis.set_major_locator(ticker.FixedLocator(positions))\n",
    "\n",
    "wrap_labels(ax, 20)\n",
    "\n",
    "legendheight = -0.225\n",
    "ax.legend(prop=prop, loc='lower center', bbox_to_anchor=(0.5, legendheight), frameon=False, ncol=len(g.columns))\n",
    "\n",
    "ax.figure"
   ]
  },
  {
   "cell_type": "code",
   "execution_count": null,
   "id": "66df07a6",
   "metadata": {},
   "outputs": [],
   "source": [
    "city = str(ax.get_xticklabels()).split('(')[2].split(')')[0][:3]\n",
    "\n",
    "# export when perfect\n",
    "ax.get_figure().savefig('graphics/jpgs/' + filename + '_' + city + '.jpg', dpi=600, bbox_inches='tight')\n",
    "ax.get_figure().savefig('graphics/pdfs/' + filename + '_' + city + '.pdf', dpi=600, bbox_inches='tight')"
   ]
  },
  {
   "cell_type": "markdown",
   "id": "a16bc6b5",
   "metadata": {},
   "source": [
    "#### Philly"
   ]
  },
  {
   "cell_type": "code",
   "execution_count": null,
   "id": "6593d1cb",
   "metadata": {},
   "outputs": [],
   "source": [
    "# set graph specs\n",
    "legendheight = -0.2\n",
    "width = 0.225\n",
    "title = g.index.name\n",
    "bartextsize = 9\n",
    "filename = file[:-4]\n",
    "\n",
    "# define function to add label to top of bars\n",
    "def autolabel(bars):\n",
    "    for bar in bars:\n",
    "        height = bar.get_height()\n",
    "        ax.annotate(str((height * 100).round(1)) + '%',\n",
    "                    xy=(bar.get_x() + bar.get_width()/2, height + 0.003),\n",
    "                    ha='center',\n",
    "                    fontproperties=prop,\n",
    "                    fontsize=bartextsize)\n",
    "        \n",
    "# define text wrapping function\n",
    "def wrap_labels(ax, width, break_long_words=False):\n",
    "    labels = []\n",
    "    for label in ax.get_xticklabels():\n",
    "        text = label.get_text()\n",
    "        labels.append(textwrap.fill(text, width=width,\n",
    "                                    break_long_words=break_long_words))\n",
    "    ax.set_xticklabels(labels, rotation=0) \n",
    "    \n",
    "fig, ax = plt.subplots(figsize=(9,5))\n",
    "ax.grid(visible=None, which='major', axis='y', linestyle = ':', linewidth = .75, zorder=0)\n",
    "plt.rcParams['hatch.linewidth'] = .15\n",
    "    \n",
    "x1 = [x - width/2 - .02 for x in range(len(g))]\n",
    "x2 = [x + width/2 + .02 for x in range(len(g))]\n",
    "\n",
    "bar1 = ax.bar(x1[5:7], g.iloc[5:7,0], width, zorder=3, label='< $10k/yr', color='black', edgecolor='black', lw=.7)\n",
    "bar2 = ax.bar(x2[5:7], g.iloc[5:7,1], width, zorder=3, label='≥ $150k/yr', color='white', edgecolor='black', hatch='/////////', lw=.7)\n",
    "#ax.bar(g.iloc[5:7,0].index, 0)\n",
    "\n",
    "autolabel(bar1)\n",
    "autolabel(bar2)\n",
    "    \n",
    "ax.set_title(title, fontproperties=prop, size=12)\n",
    "#ax.set_ylabel(ytitle, fontproperties=prop) # set title and font\n",
    "ax.tick_params(axis='both', left=False, bottom=False) # remove Y axis ticks\n",
    "ax.yaxis.set_major_formatter(ticker.PercentFormatter(xmax=1, decimals=0)) # turn y axis decimals into %s\n",
    "\n",
    "for label in ax.get_yticklabels():\n",
    "    label.set_fontproperties(prop)\n",
    "    label.set_fontsize(8) \n",
    "    \n",
    "for label in ax.get_xticklabels():\n",
    "    label.set_fontproperties(prop)\n",
    "    label.set_fontsize(9)   \n",
    "    \n",
    "ax.legend(prop=prop, loc='lower center', bbox_to_anchor=(0.5, legendheight), frameon=False, ncol=len(g.columns))\n",
    "    \n",
    "ax.spines['top'].set_visible(False)\n",
    "ax.spines['right'].set_visible(False)\n",
    "ax.spines['bottom'].set_visible(True)\n",
    "ax.spines['left'].set_visible(False)\n",
    "\n",
    "ax.set(ylim=(0, (g.max().max() * 1.2).round(2)))\n",
    "#ax.set(ylim=(0,.1))\n",
    "plt.xticks(ticks=[5.0, 6.0], labels=['Philadelphia County, PA\\n(Philadelphia)', 'Rural Pennsylvania\\n(counties pooled)'])\n",
    "plt.show()"
   ]
  },
  {
   "cell_type": "code",
   "execution_count": null,
   "id": "cd5ee152",
   "metadata": {},
   "outputs": [],
   "source": [
    "city = str(ax.get_xticklabels()).split('(')[2].split(')')[0][:3]\n",
    "# export when perfect\n",
    "ax.get_figure().savefig('graphics/jpgs/' + filename + '_' + city + '.jpg', dpi=600, bbox_inches='tight')\n",
    "ax.get_figure().savefig('graphics/pdfs/' + filename + '_' + city + '.pdf', dpi=600, bbox_inches='tight')"
   ]
  },
  {
   "cell_type": "markdown",
   "id": "175312ed",
   "metadata": {},
   "source": [
    "#### LA"
   ]
  },
  {
   "cell_type": "code",
   "execution_count": null,
   "id": "59129a38",
   "metadata": {},
   "outputs": [],
   "source": [
    "# set graph specs\n",
    "legendheight = -0.2\n",
    "width = 0.225\n",
    "title = g.index.name\n",
    "bartextsize = 9\n",
    "filename = file[:-4]\n",
    "\n",
    "# define function to add label to top of bars\n",
    "def autolabel(bars):\n",
    "    for bar in bars:\n",
    "        height = bar.get_height()\n",
    "        ax.annotate(str((height * 100).round(1)) + '%',\n",
    "                    xy=(bar.get_x() + bar.get_width()/2, height + 0.003),\n",
    "                    ha='center',\n",
    "                    fontproperties=prop,\n",
    "                    fontsize=bartextsize)\n",
    "        \n",
    "# define text wrapping function\n",
    "def wrap_labels(ax, width, break_long_words=False):\n",
    "    labels = []\n",
    "    for label in ax.get_xticklabels():\n",
    "        text = label.get_text()\n",
    "        labels.append(textwrap.fill(text, width=width,\n",
    "                                    break_long_words=break_long_words))\n",
    "    ax.set_xticklabels(labels, rotation=0) \n",
    "    \n",
    "fig, ax = plt.subplots(figsize=(9,5))\n",
    "ax.grid(visible=None, which='major', axis='y', linestyle = ':', linewidth = .75, zorder=0)\n",
    "plt.rcParams['hatch.linewidth'] = .15\n",
    "    \n",
    "x1 = [x - width/2 - .02 for x in range(len(g))]\n",
    "x2 = [x + width/2 + .02 for x in range(len(g))]\n",
    "\n",
    "bar1 = ax.bar(x1[8:10], g.iloc[8:10,0], width, zorder=3, label='< $10k/yr', color='black', edgecolor='black', lw=.7)\n",
    "bar2 = ax.bar(x2[8:10], g.iloc[8:10,1], width, zorder=3, label='≥ $150k/yr', color='white', edgecolor='black', hatch='/////////', lw=.7)\n",
    "#ax.bar(g.iloc[5:7,0].index, 0)\n",
    "\n",
    "autolabel(bar1)\n",
    "autolabel(bar2)\n",
    "    \n",
    "ax.set_title(title, fontproperties=prop, size=12)\n",
    "#ax.set_ylabel(ytitle, fontproperties=prop) # set title and font\n",
    "ax.tick_params(axis='both', left=False, bottom=False) # remove Y axis ticks\n",
    "ax.yaxis.set_major_formatter(ticker.PercentFormatter(xmax=1, decimals=0)) # turn y axis decimals into %s\n",
    "\n",
    "for label in ax.get_yticklabels():\n",
    "    label.set_fontproperties(prop)\n",
    "    label.set_fontsize(8) \n",
    "    \n",
    "for label in ax.get_xticklabels():\n",
    "    label.set_fontproperties(prop)\n",
    "    label.set_fontsize(9)   \n",
    "    \n",
    "ax.legend(prop=prop, loc='lower center', bbox_to_anchor=(0.5, legendheight), frameon=False, ncol=len(g.columns))\n",
    "    \n",
    "ax.spines['top'].set_visible(False)\n",
    "ax.spines['right'].set_visible(False)\n",
    "ax.spines['bottom'].set_visible(True)\n",
    "ax.spines['left'].set_visible(False)\n",
    "\n",
    "ax.set(ylim=(0, (g.max().max() * 1.2).round(2)))\n",
    "#ax.set(ylim=(0,.1))\n",
    "plt.xticks(ticks=[8.0, 9.0], labels=['Los Angeles County, CA\\n(Greater LA)', 'Rural California\\n(counties pooled)'])\n",
    "plt.show()"
   ]
  },
  {
   "cell_type": "code",
   "execution_count": null,
   "id": "4c6683a3",
   "metadata": {},
   "outputs": [],
   "source": [
    "city = 'LA'\n",
    "# export when perfect\n",
    "ax.get_figure().savefig('graphics/jpgs/' + filename + '_' + city + '.jpg', dpi=600, bbox_inches='tight')\n",
    "ax.get_figure().savefig('graphics/pdfs/' + filename + '_' + city + '.pdf', dpi=600, bbox_inches='tight')"
   ]
  },
  {
   "cell_type": "markdown",
   "id": "7c4ab637",
   "metadata": {},
   "source": [
    "#### Boston"
   ]
  },
  {
   "cell_type": "code",
   "execution_count": null,
   "id": "d5029eb9",
   "metadata": {},
   "outputs": [],
   "source": [
    "# set graph specs\n",
    "legendheight = -0.2\n",
    "width = 0.225\n",
    "title = g.index.name\n",
    "bartextsize = 9\n",
    "filename = file[:-4]\n",
    "\n",
    "# define function to add label to top of bars\n",
    "def autolabel(bars):\n",
    "    for bar in bars:\n",
    "        height = bar.get_height()\n",
    "        ax.annotate(str((height * 100).round(1)) + '%',\n",
    "                    xy=(bar.get_x() + bar.get_width()/2, height + 0.003),\n",
    "                    ha='center',\n",
    "                    fontproperties=prop,\n",
    "                    fontsize=bartextsize)\n",
    "        \n",
    "# define text wrapping function\n",
    "def wrap_labels(ax, width, break_long_words=False):\n",
    "    labels = []\n",
    "    for label in ax.get_xticklabels():\n",
    "        text = label.get_text()\n",
    "        labels.append(textwrap.fill(text, width=width,\n",
    "                                    break_long_words=break_long_words))\n",
    "    ax.set_xticklabels(labels, rotation=0) \n",
    "    \n",
    "fig, ax = plt.subplots(figsize=(9,5))\n",
    "ax.grid(visible=None, which='major', axis='y', linestyle = ':', linewidth = .75, zorder=0)\n",
    "plt.rcParams['hatch.linewidth'] = .15\n",
    "    \n",
    "x1 = [x - width/2 - .02 for x in range(len(g))]\n",
    "x2 = [x + width/2 + .02 for x in range(len(g))]\n",
    "\n",
    "bar1 = ax.bar(x1[11:13], g.iloc[11:13,0], width, zorder=3, label='< $10k/yr', color='black', edgecolor='black', lw=.7)\n",
    "bar2 = ax.bar(x2[11:13], g.iloc[11:13,1], width, zorder=3, label='≥ $150k/yr', color='white', edgecolor='black', hatch='/////////', lw=.7)\n",
    "#ax.bar(g.iloc[5:7,0].index, 0)\n",
    "\n",
    "autolabel(bar1)\n",
    "autolabel(bar2)\n",
    "    \n",
    "ax.set_title(title, fontproperties=prop, size=12)\n",
    "#ax.set_ylabel(ytitle, fontproperties=prop) # set title and font\n",
    "ax.tick_params(axis='both', left=False, bottom=False) # remove Y axis ticks\n",
    "ax.yaxis.set_major_formatter(ticker.PercentFormatter(xmax=1, decimals=0)) # turn y axis decimals into %s\n",
    "\n",
    "for label in ax.get_yticklabels():\n",
    "    label.set_fontproperties(prop)\n",
    "    label.set_fontsize(8) \n",
    "    \n",
    "for label in ax.get_xticklabels():\n",
    "    label.set_fontproperties(prop)\n",
    "    label.set_fontsize(9)   \n",
    "    \n",
    "ax.legend(prop=prop, loc='lower center', bbox_to_anchor=(0.5, legendheight), frameon=False, ncol=len(g.columns))\n",
    "    \n",
    "ax.spines['top'].set_visible(False)\n",
    "ax.spines['right'].set_visible(False)\n",
    "ax.spines['bottom'].set_visible(True)\n",
    "ax.spines['left'].set_visible(False)\n",
    "\n",
    "ax.set(ylim=(0, (g.max().max() * 1.2).round(2)))\n",
    "#ax.set(ylim=(0,.1))\n",
    "plt.xticks(ticks=[11.0, 12.0], labels=['Suffolk County, MA\\n(Boston)', 'Rural Massachusetts\\n(counties pooled)'])\n",
    "plt.show()"
   ]
  },
  {
   "cell_type": "code",
   "execution_count": null,
   "id": "b5902cec",
   "metadata": {},
   "outputs": [],
   "source": [
    "city = str(ax.get_xticklabels()).split('(')[2].split(')')[0][:3]\n",
    "# export when perfect\n",
    "ax.get_figure().savefig('graphics/jpgs/' + filename + '_' + city + '.jpg', dpi=600, bbox_inches='tight')\n",
    "ax.get_figure().savefig('graphics/pdfs/' + filename + '_' + city + '.pdf', dpi=600, bbox_inches='tight')"
   ]
  },
  {
   "cell_type": "markdown",
   "id": "729313f6",
   "metadata": {},
   "source": [
    "### single bar graph"
   ]
  },
  {
   "cell_type": "code",
   "execution_count": null,
   "id": "443512ef",
   "metadata": {},
   "outputs": [],
   "source": [
    "# set graph specs\n",
    "legendheight = -0.25\n",
    "width = 0.7\n",
    "title = g.index.name\n",
    "bartextsize = 9\n",
    "filename = file[:-4]\n",
    "ylim = (0, 1.5)\n",
    "#ylim = (-.5, .5)\n",
    "\n",
    "\n",
    "# define function to add label to top of bars\n",
    "def autolabel(bars):\n",
    "    for bar in bars:\n",
    "        height = bar.get_height()\n",
    "        if height > 0:\n",
    "            height = height + .01\n",
    "        else:\n",
    "            height = height - .035\n",
    "        ax.annotate(str((height * 100).round(1)) + '%',\n",
    "                    xy=(bar.get_x() + bar.get_width()/2, height),\n",
    "                    ha='center',\n",
    "                    fontproperties=prop,\n",
    "                    fontsize=bartextsize)\n",
    "        \n",
    "# define text wrapping function\n",
    "def wrap_labels(ax, width, break_long_words=False):\n",
    "    labels = []\n",
    "    for label in ax.get_xticklabels():\n",
    "        text = label.get_text()\n",
    "        labels.append(textwrap.fill(text, width=width,\n",
    "                                    break_long_words=break_long_words))\n",
    "    ax.set_xticklabels(labels, rotation=0) \n",
    "    \n",
    "fig, ax = plt.subplots(figsize=(9,5))\n",
    "ax.grid(visible=None, which='major', axis='y', linestyle = ':', linewidth = .75, zorder=0)\n",
    "plt.rcParams['hatch.linewidth'] = .15\n",
    "    \n",
    "bar1 = ax.bar(g.index, g.iloc[:,0], width, zorder=3, label=None, color='black', edgecolor='black', lw=.7)\n",
    "\n",
    "#bar1 = ax.bar(g.index, g.values, width, zorder=3, label='Metro', color='black', edgecolor='black', lw=.7)\n",
    "\n",
    "autolabel(bar1)\n",
    "#autolabel(bar2)\n",
    "    \n",
    "ax.set_title(title, fontproperties=prop, size=12)\n",
    "#ax.set_ylabel(ytitle, fontproperties=prop) # set title and font\n",
    "ax.tick_params(axis='both', left=False, bottom=False) # remove Y axis ticks\n",
    "ax.yaxis.set_major_formatter(ticker.PercentFormatter(xmax=1, decimals=0)) # turn y axis decimals into %s\n",
    "\n",
    "for label in ax.get_yticklabels():\n",
    "    label.set_fontproperties(prop)\n",
    "    label.set_fontsize(8) \n",
    "    \n",
    "for label in ax.get_xticklabels():\n",
    "    label.set_fontproperties(prop)\n",
    "    label.set_fontsize(9)   \n",
    "    \n",
    "#ax.legend(prop=prop, loc='lower center', bbox_to_anchor=(0.5, legendheight), frameon=False, ncol=len(g.columns))\n",
    "    \n",
    "ax.spines['top'].set_visible(False)\n",
    "ax.spines['right'].set_visible(False)\n",
    "ax.spines['bottom'].set_visible(True)\n",
    "ax.spines['left'].set_visible(False)\n",
    "\n",
    "ax.set(ylim=ylim)\n",
    "plt.show()"
   ]
  },
  {
   "cell_type": "code",
   "execution_count": null,
   "id": "9041f4fe",
   "metadata": {},
   "outputs": [],
   "source": [
    "# if not, run this code to wrap text and adjust legend\n",
    "chars = 5\n",
    "positions = range(0, len(g.index))\n",
    "\n",
    "ax.xaxis.set_major_locator(ticker.FixedLocator(positions))\n",
    "wrap_labels(ax, chars)\n",
    "\n",
    "\n",
    "lines = []\n",
    "for label in ax.get_xticklabels():\n",
    "    lines.append(str(label).count('\\\\n'))\n",
    "    \n",
    "if max(lines) == 1:\n",
    "    legendheight = -0.225\n",
    "elif max(lines) == 2:\n",
    "    legendheight = -0.25\n",
    "else:\n",
    "    pass\n",
    "\n",
    "ax.figure"
   ]
  },
  {
   "cell_type": "code",
   "execution_count": null,
   "id": "e26e36e8",
   "metadata": {},
   "outputs": [],
   "source": [
    "# export when perfect\n",
    "ax.get_figure().savefig('graphics/jpgs/' + filename + '.jpg', dpi=600, bbox_inches='tight')\n",
    "ax.get_figure().savefig('graphics/pdfs/' + filename + '.pdf', dpi=600, bbox_inches='tight')"
   ]
  },
  {
   "cell_type": "markdown",
   "id": "407fb02e",
   "metadata": {},
   "source": [
    "## Chapter 6"
   ]
  },
  {
   "cell_type": "code",
   "execution_count": null,
   "id": "1a671e17",
   "metadata": {},
   "outputs": [],
   "source": [
    "files_ch6"
   ]
  },
  {
   "cell_type": "code",
   "execution_count": null,
   "id": "2978c758",
   "metadata": {},
   "outputs": [],
   "source": [
    "n = 0"
   ]
  },
  {
   "cell_type": "code",
   "execution_count": null,
   "id": "eb7dca61",
   "metadata": {},
   "outputs": [],
   "source": [
    "# load file\n",
    "n = n + 1\n",
    "path = 'data_files/'\n",
    "file = files_ch6[n]\n",
    "print(file)\n",
    "\n",
    "g = pd.read_csv(path + file)\n",
    "g = g.set_index(g.iloc[:,0])\n",
    "g = g.drop(g.iloc[:,0].name, axis=1)\n",
    "g = g.dropna()\n",
    "g"
   ]
  },
  {
   "cell_type": "code",
   "execution_count": null,
   "id": "6dbf55c5",
   "metadata": {},
   "outputs": [],
   "source": [
    "# set graph specs\n",
    "width = 0.225\n",
    "legendheight = -0.2\n",
    "title = g.index.name#[:-11]\n",
    "filename = file[:-4]\n",
    "ylim = (0, g.max().max() * 1.4)\n",
    "#ylim = (0, 1)\n",
    "#ylim = (-.5, .5)\n",
    "\n",
    "# define function to add label to top of bars\n",
    "def autolabel(bars):\n",
    "    for bar in bars:\n",
    "        height = bar.get_height()\n",
    "        if height > 0:\n",
    "            height = height + bartextheight_pos\n",
    "        else:\n",
    "            height = height - bartextheight_neg\n",
    "        ax.annotate(str((height * 100).round(1)) + '%',\n",
    "                    xy=(bar.get_x() + bar.get_width()/2, height),\n",
    "                    ha='center',\n",
    "                    fontproperties=prop,\n",
    "                    fontsize=bartextsize)\n",
    "\n",
    "# run graph code    \n",
    "fig, ax = plt.subplots(figsize=(9,5))\n",
    "ax.grid(visible=None, which='major', axis='y', linestyle = ':', linewidth = .75, zorder=0)\n",
    "plt.rcParams['hatch.linewidth'] = .15\n",
    "    \n",
    "x_metro = [x - width/2 - .02 for x in range(len(g.Urban))]\n",
    "x_rural = [x + width/2 + .02 for x in range(len(g.Rural))]\n",
    "\n",
    "bar1 = ax.bar(x_metro, g.Urban, width, zorder=3, label='Urban', color='black', edgecolor='black', lw=.7)\n",
    "bar2 = ax.bar(x_rural, g.Rural, width, zorder=3, label='Rural', color='white', edgecolor='black', hatch='/////////', lw=.7)\n",
    "ax.bar(g.index, 0)\n",
    "\n",
    "if len(ax.get_xticklabels()) < 3:\n",
    "    bartextsize = 9.5\n",
    "    bartextheight_pos = .004\n",
    "    bartextheight_neg = .035\n",
    "    autolabel(bar1)\n",
    "    autolabel(bar2)\n",
    "\n",
    "elif len(ax.get_xticklabels()) == 3:\n",
    "    bartextsize = 9.5\n",
    "    bartextheight_pos = .0045\n",
    "    bartextheight_neg = .035\n",
    "    autolabel(bar1)\n",
    "    autolabel(bar2)\n",
    "    \n",
    "elif len(ax.get_xticklabels()) == 4:\n",
    "    bartextsize = 9\n",
    "    bartextheight_pos = .0075\n",
    "    bartextheight_neg = .035\n",
    "    autolabel(bar1)\n",
    "    autolabel(bar2)\n",
    "    \n",
    "elif len(ax.get_xticklabels()) == 5:\n",
    "    bartextsize = 7.5\n",
    "    bartextheight_pos = .0075\n",
    "    bartextheight_neg = .035\n",
    "    autolabel(bar1)\n",
    "    autolabel(bar2)\n",
    "\n",
    "elif len(ax.get_xticklabels()) > 5:\n",
    "    pass\n",
    "    \n",
    "ax.set_title(title, fontproperties=prop, size=12)\n",
    "ax.tick_params(axis='both', left=False, bottom=False) # remove Y axis ticks\n",
    "ax.yaxis.set_major_formatter(ticker.PercentFormatter(xmax=1, decimals=0)) # turn y axis decimals into %s\n",
    "\n",
    "for label in ax.get_yticklabels():\n",
    "    label.set_fontproperties(prop)\n",
    "    label.set_fontsize(8) \n",
    "    \n",
    "for label in ax.get_xticklabels():\n",
    "    label.set_fontproperties(prop)\n",
    "    label.set_fontsize(9)   \n",
    "    \n",
    "ax.legend(prop=prop, loc='lower center', bbox_to_anchor=(0.5, legendheight), frameon=False, ncol=len(g.columns))\n",
    "    \n",
    "ax.spines['top'].set_visible(False)\n",
    "ax.spines['right'].set_visible(False)\n",
    "ax.spines['bottom'].set_visible(True)\n",
    "ax.spines['left'].set_visible(False)\n",
    "\n",
    "ax.set(ylim=(ylim))\n",
    "\n",
    "plt.show()"
   ]
  },
  {
   "cell_type": "code",
   "execution_count": null,
   "id": "cc6e0baf",
   "metadata": {},
   "outputs": [],
   "source": [
    "# if not, run this code to wrap text and adjust legend\n",
    "chars = 18\n",
    "positions = range(0, len(g.index))\n",
    "\n",
    "ax.xaxis.set_major_locator(ticker.FixedLocator(positions))\n",
    "wrap_labels(ax, chars)\n",
    "\n",
    "\n",
    "lines = []\n",
    "for label in ax.get_xticklabels():\n",
    "    lines.append(str(label).count('\\\\n'))\n",
    "    \n",
    "if max(lines) == 1:\n",
    "    legendheight = -0.225\n",
    "elif max(lines) == 2:\n",
    "    legendheight = -0.25\n",
    "else:\n",
    "    pass\n",
    "\n",
    "ax.legend(prop=prop, loc='lower center', bbox_to_anchor=(0.5, legendheight), frameon=False, ncol=len(g.columns))\n",
    "\n",
    "ax.figure"
   ]
  },
  {
   "cell_type": "code",
   "execution_count": null,
   "id": "a1ca1b17",
   "metadata": {},
   "outputs": [],
   "source": [
    "# export when perfect\n",
    "ax.get_figure().savefig('graphics/jpgs/' + filename + '.jpg', dpi=600, bbox_inches='tight')\n",
    "ax.get_figure().savefig('graphics/pdfs/' + filename + '.pdf', dpi=600, bbox_inches='tight')"
   ]
  },
  {
   "cell_type": "markdown",
   "id": "6ddcf48b",
   "metadata": {},
   "source": [
    "## Chapter 7"
   ]
  },
  {
   "cell_type": "code",
   "execution_count": null,
   "id": "e13b57b6",
   "metadata": {},
   "outputs": [],
   "source": [
    "# load file\n",
    "path = 'data_files/'\n",
    "file = files_ch7[0]\n",
    "print(file)"
   ]
  },
  {
   "cell_type": "code",
   "execution_count": null,
   "id": "8a0ca31e",
   "metadata": {},
   "outputs": [],
   "source": [
    "s = pd.read_csv(path + file)\n",
    "s = s.set_index(s.iloc[:,0])\n",
    "s = s.drop(s.iloc[:,0].name, axis=1)\n",
    "s"
   ]
  },
  {
   "cell_type": "code",
   "execution_count": null,
   "id": "5de4d3f3",
   "metadata": {},
   "outputs": [],
   "source": [
    "# set graph specs\n",
    "#legendheight = -0.2\n",
    "w = 0.2\n",
    "bartextsize = 9\n",
    "filename = file[:-4]\n",
    "\n",
    "for col in s.T.columns:\n",
    "    \n",
    "    g = s.T.loc[:, col]\n",
    "    \n",
    "    fig, ax = plt.subplots(figsize=(9,5))\n",
    "    ax.grid(visible=None, which='major', axis='y', linestyle = ':', linewidth = .75, zorder=0)\n",
    "    plt.rcParams['hatch.linewidth'] = .15\n",
    "\n",
    "    bar1 = ax.bar(0 - w/2, g.iloc[0], w, zorder=3, label='Urban', color='black', edgecolor='black', lw=.7)\n",
    "    bar2 = ax.bar(0 + w/2, g.iloc[1], w, zorder=3, label='Rural', color='white', edgecolor='black', hatch='/////////', lw=.7)\n",
    "    bar3 = ax.bar(1 - w/2, g.iloc[2], w, zorder=3, label='<$25k', color='black', edgecolor='black', lw=.7)\n",
    "    bar4 = ax.bar(1 + w/2, g.iloc[3], w, zorder=3, label='≥$100k', color='white', edgecolor='black', hatch='/////////', lw=.7)\n",
    "    bar5 = ax.bar(2 - w/2, g.iloc[4], w, zorder=3, label='<BA', color='black', edgecolor='black', lw=.7)\n",
    "    bar6 = ax.bar(2 + w/2, g.iloc[5], w, zorder=3, label='≥BA', color='white', edgecolor='black', hatch='/////////', lw=.7)\n",
    "\n",
    "    # define function to add label to top of bars\n",
    "    def autolabel(bars):\n",
    "        for bar in bars:\n",
    "            height = bar.get_height()\n",
    "            ax.annotate(str((height * 100).round(2)) + '%',\n",
    "                        xy=(bar.get_x() + bar.get_width()/2, height + (g.max() * .015)),\n",
    "                        ha='center',\n",
    "                        fontproperties=prop,\n",
    "                        fontsize=bartextsize)\n",
    "            \n",
    "    autolabel(bar1)\n",
    "    autolabel(bar2)\n",
    "    autolabel(bar3)\n",
    "    autolabel(bar4)\n",
    "    autolabel(bar5)\n",
    "    autolabel(bar6)\n",
    "    \n",
    "    if g.max() < 0.01:\n",
    "        decimal=2\n",
    "    else:\n",
    "        decimal=1\n",
    "    \n",
    "    title = col + ' Consumer Expenditure, 2018'\n",
    "    ax.set_title(title, fontproperties=prop, size=12)\n",
    "    ax.tick_params(axis='both', left=False, bottom=False) # remove Y axis ticks\n",
    "    ax.yaxis.set_major_formatter(ticker.PercentFormatter(xmax=1, decimals=decimal)) # turn y axis decimals into %s\n",
    "\n",
    "    for label in ax.get_yticklabels():\n",
    "        label.set_fontproperties(prop)\n",
    "        label.set_fontsize(8) \n",
    "    \n",
    "    for label in ax.get_xticklabels():\n",
    "        label.set_fontproperties(prop)\n",
    "        label.set_fontsize(9)   \n",
    "    \n",
    "    plt.xticks(ticks=[0, 1, 2], labels=['Urban v. Rural',\n",
    "                                        'Below \\$25k v. At least $100k',\n",
    "                                        'Below B.A. v. B.A. or Above'])\n",
    "\n",
    "    #ax.legend(prop=prop, loc='lower center', bbox_to_anchor=(0.5, legendheight), frameon=False, ncol=3)\n",
    "    \n",
    "    ax.spines['top'].set_visible(False)\n",
    "    ax.spines['right'].set_visible(False)\n",
    "    ax.spines['bottom'].set_visible(True)\n",
    "    ax.spines['left'].set_visible(False)\n",
    "\n",
    "    ax.set(ylim=(0, g.max()*1.3))\n",
    "\n",
    "    plt.show()\n",
    "    \n",
    "    # if good, export\n",
    "    ax.get_figure().savefig('graphics/jpgs/' + filename + '_' + col + '.jpg', dpi=600, bbox_inches='tight')\n",
    "    ax.get_figure().savefig('graphics/pdfs/' + filename + '_' + col + '.pdf', dpi=600, bbox_inches='tight')"
   ]
  },
  {
   "cell_type": "code",
   "execution_count": null,
   "id": "455e37a9",
   "metadata": {},
   "outputs": [],
   "source": []
  }
 ],
 "metadata": {
  "kernelspec": {
   "display_name": "Python (ppd599)",
   "language": "python",
   "name": "ppd599"
  },
  "language_info": {
   "codemirror_mode": {
    "name": "ipython",
    "version": 3
   },
   "file_extension": ".py",
   "mimetype": "text/x-python",
   "name": "python",
   "nbconvert_exporter": "python",
   "pygments_lexer": "ipython3",
   "version": "3.9.2"
  }
 },
 "nbformat": 4,
 "nbformat_minor": 5
}
