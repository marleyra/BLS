{
 "cells": [
  {
   "cell_type": "code",
   "execution_count": null,
   "id": "b99eb14c",
   "metadata": {},
   "outputs": [],
   "source": [
    "import numpy as np\n",
    "import pandas as pd"
   ]
  },
  {
   "cell_type": "code",
   "execution_count": null,
   "id": "1bf34abd",
   "metadata": {},
   "outputs": [],
   "source": [
    "path = 'my_naics_chg/naics_'\n",
    "codes = ['11', '21', '51', '52', '54']\n",
    "\n",
    "for code in codes:\n",
    "    df = pd.read_csv(path + code + '.csv')"
   ]
  },
  {
   "cell_type": "code",
   "execution_count": null,
   "id": "e8e9ca82",
   "metadata": {},
   "outputs": [],
   "source": [
    "df.columns"
   ]
  },
  {
   "cell_type": "code",
   "execution_count": null,
   "id": "438cc536",
   "metadata": {},
   "outputs": [],
   "source": [
    "# use Kurt's 2020 BEA classifications to calculate \n",
    "temp_list = []\n",
    "\n",
    "for col in df.columns[8:12]:\n",
    "    s = df.groupby('type_kurt20')[col].sum()\n",
    "    temp_list.append(s)\n",
    "\n",
    "mynaics = pd.concat(temp_list, axis=1)\n",
    "mynaics"
   ]
  },
  {
   "cell_type": "code",
   "execution_count": null,
   "id": "5fb93e34",
   "metadata": {},
   "outputs": [],
   "source": [
    "# load Kurt's NAICS data\n",
    "\n",
    "num = '51'\n",
    "kw = pd.read_csv('NAICS/NAICS_' + num + '_Employment_Counties.csv')\n",
    "\n",
    "temp_list = []\n",
    "\n",
    "kw['TYPE_y'].fillna('RURAL', inplace=True)\n",
    "\n",
    "for col in kw.columns[20:24]:\n",
    "    s = kw.groupby('TYPE_y')[col].sum()\n",
    "    temp_list.append(s)\n",
    "\n",
    "kwnaics = pd.concat(temp_list, axis=1)\n",
    "kwnaics"
   ]
  },
  {
   "cell_type": "code",
   "execution_count": null,
   "id": "c320e53c",
   "metadata": {},
   "outputs": [],
   "source": [
    "# compare mine and Kurt's data using same classification scheme\n",
    "(mynaics - kwnaics.values)# / kwnaics.values "
   ]
  },
  {
   "cell_type": "code",
   "execution_count": null,
   "id": "c70fe632",
   "metadata": {},
   "outputs": [],
   "source": [
    "# merge to see from where discrepancy arises\n",
    "merged = df.merge(kw, how='left', left_on='fips', right_on='GEOID')\n",
    "merged.head()"
   ]
  },
  {
   "cell_type": "code",
   "execution_count": null,
   "id": "eefb256a",
   "metadata": {},
   "outputs": [],
   "source": [
    "# using same metro/micro classification scheme\n",
    "# difference must arise from either different numbers or missing counties\n",
    "cols = merged.columns[:8].tolist() + ['TYPE_y'] + merged.columns[8:12].tolist() + merged.columns[36:40].tolist()\n",
    "diff = merged[merged['type_kurt20'] != merged['TYPE_y'].str[:5].str.title()][cols]\n",
    "\n",
    "# all nonmatching typologies do not appear in Kurt's data\n",
    "diff.dropna(subset='TYPE_y').shape"
   ]
  },
  {
   "cell_type": "code",
   "execution_count": null,
   "id": "352c6997",
   "metadata": {},
   "outputs": [],
   "source": [
    "# difference between mine and Kurt's rural 1990 #s\n",
    "distance = 1044\n",
    "\n",
    "# calculates the jobs from all the rural counties NOT in Kurt's dataset\n",
    "missing = diff[diff['type_kurt20'] == 'Rural']['annual_avg_emplvl_90'].sum()\n",
    "\n",
    "# calculates all the 1s created for calculating percentages\n",
    "ones = (merged[merged['TYPE_y'] == 'RURAL']['1990 EMPLOYMENT'] == 1).astype(int).sum()\n",
    "\n",
    "# the difference should be equal to all the missing jobs counted in mine, minues the ones added to Kurt's \n",
    "distance == missing - ones"
   ]
  },
  {
   "cell_type": "code",
   "execution_count": null,
   "id": "118e81e3",
   "metadata": {},
   "outputs": [],
   "source": [
    "# the same should hold for all years:\n",
    "distances = [1044, 1216, 1545, 1093]\n",
    "check_cols = diff.columns[9:]\n",
    "\n",
    "for x in range(0, 4):\n",
    "    missing = diff[diff['type_kurt20'] == 'Rural'][check_cols[x]].sum()\n",
    "    ones = (merged[merged['TYPE_y'] == 'RURAL'][check_cols[x+4]] == 1).astype(int).sum()\n",
    "    print(check_cols[x], missing - ones, distances[x], missing, ones, missing - ones == distances[x])"
   ]
  },
  {
   "cell_type": "code",
   "execution_count": null,
   "id": "cf2f6d41",
   "metadata": {},
   "outputs": [],
   "source": [
    "# explore why the 2020 variable doesn't match up\n",
    "\n",
    "# create rural dataframe of just the counties where the 2020 numbers don't align & drop nulls\n",
    "rural = merged[merged['type_kurt20'] == 'Rural']\n",
    "ruralunmatched20 = rural[rural['annual_avg_emplvl_20'] != rural['2020 EMPLOYMENT']].dropna(subset='2020 EMPLOYMENT')\n",
    "\n",
    "# calculate and store the difference between Kurt and my calculations and add it to the difference\n",
    "z = (ruralunmatched20['annual_avg_emplvl_20'] - ruralunmatched20['2020 EMPLOYMENT']).sum()\n",
    "print(check_cols[x], missing, ones, z, missing - ones + z, distances[x], missing - ones + z == distances[x])"
   ]
  },
  {
   "cell_type": "code",
   "execution_count": null,
   "id": "6c5e8422",
   "metadata": {},
   "outputs": [],
   "source": [
    "# most of the counties differ by 1s, which might be due to coding errors \n",
    "(ruralunmatched20['annual_avg_emplvl_20'] - ruralunmatched20['2020 EMPLOYMENT']).value_counts()"
   ]
  },
  {
   "cell_type": "code",
   "execution_count": null,
   "id": "a0a74311",
   "metadata": {},
   "outputs": [],
   "source": [
    "# but 7 counties have employment differences >1\n",
    "ruralunmatched20['diff'] = ruralunmatched20['annual_avg_emplvl_20'] - ruralunmatched20['2020 EMPLOYMENT']\n",
    "ruralunmatched20[cols + ['diff']][abs(ruralunmatched20['diff']) > 1]"
   ]
  },
  {
   "cell_type": "code",
   "execution_count": null,
   "id": "ea38e73c",
   "metadata": {},
   "outputs": [],
   "source": [
    "# what would have led these numbers to be this far apart?\n",
    "# return to BLS3 to check on this?\n",
    "ruralunmatched20[cols + ['diff']][abs(ruralunmatched20['diff']) > 1]['fips'].tolist()"
   ]
  },
  {
   "cell_type": "code",
   "execution_count": null,
   "id": "8e7a389c",
   "metadata": {},
   "outputs": [],
   "source": []
  }
 ],
 "metadata": {
  "kernelspec": {
   "display_name": "Python (ppd599)",
   "language": "python",
   "name": "ppd599"
  },
  "language_info": {
   "codemirror_mode": {
    "name": "ipython",
    "version": 3
   },
   "file_extension": ".py",
   "mimetype": "text/x-python",
   "name": "python",
   "nbconvert_exporter": "python",
   "pygments_lexer": "ipython3",
   "version": "3.9.2"
  }
 },
 "nbformat": 4,
 "nbformat_minor": 5
}
