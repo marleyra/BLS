{
 "cells": [
  {
   "cell_type": "code",
   "execution_count": 1,
   "id": "0a0495e7",
   "metadata": {},
   "outputs": [],
   "source": [
    "# from BLS5\n",
    "import numpy as np\n",
    "import pandas as pd"
   ]
  },
  {
   "cell_type": "code",
   "execution_count": 2,
   "id": "a0e7dd06",
   "metadata": {},
   "outputs": [],
   "source": [
    "# read dataframes, calculates and stores totals by geography and region\n",
    "path = 'my_naics_chg/naics_'\n",
    "codes = ['11', '21', '51', '52', '54']\n",
    "\n",
    "# empty lists for processing\n",
    "shell = []\n",
    "names = []\n",
    "\n",
    "for code in codes:\n",
    "    df = pd.read_csv(path + code + '.csv')\n",
    "    \n",
    "    # calculate totals by geography\n",
    "    classification = 'type_kurt20' # classification scheme\n",
    "    \n",
    "    temp_list = []\n",
    "    for col in df.columns[8:12]:\n",
    "        s = df.groupby(classification)[col].sum()\n",
    "        temp_list.append(s)\n",
    "    mynaics = pd.concat(temp_list, axis=1)\n",
    "    \n",
    "    # store values in dictionary\n",
    "    shell.append(mynaics)\n",
    "    names.append('geo_naics' + code)\n",
    "    d1 = dict(zip(names, shell))"
   ]
  },
  {
   "cell_type": "code",
   "execution_count": 3,
   "id": "3b14cb30",
   "metadata": {},
   "outputs": [],
   "source": [
    "# calculate regional totals and save to dictionary\n",
    "\n",
    "# clear lists\n",
    "shell = []\n",
    "names = []\n",
    "\n",
    "for code in codes:\n",
    "    temp_list = []\n",
    "    for col in df.columns[8:12]:\n",
    "        s = df.groupby('region')[col].sum()\n",
    "        temp_list.append(s)\n",
    "    mynaics = pd.concat(temp_list, axis=1)\n",
    "    \n",
    "    # store values in dictionary\n",
    "    shell.append(mynaics)\n",
    "    names.append('region_naics' + code)\n",
    "    d2 = dict(zip(names, shell))"
   ]
  },
  {
   "cell_type": "code",
   "execution_count": 4,
   "id": "b95ee616",
   "metadata": {},
   "outputs": [],
   "source": [
    "# calculate state totals (preserving region) and save to dictionary\n",
    "\n",
    "# clear lists\n",
    "shell = []\n",
    "names = []\n",
    "\n",
    "for code in codes:\n",
    "    temp_list = []\n",
    "    for col in df.columns[8:12]:\n",
    "        s = df.groupby(['State', 'region'], as_index=False)[col].sum()\n",
    "        temp_list.append(s)\n",
    "    mynaics = pd.concat(temp_list, axis=1)\n",
    "    \n",
    "    # drop duplicate state and region cols\n",
    "    mynaics = mynaics.iloc[:,~mynaics.columns.duplicated()]\n",
    "    \n",
    "    # store values in dictionary\n",
    "    shell.append(mynaics)\n",
    "    names.append('state_naics' + code)\n",
    "    d3 = dict(zip(names, shell))"
   ]
  },
  {
   "cell_type": "code",
   "execution_count": 5,
   "id": "67829836",
   "metadata": {},
   "outputs": [],
   "source": [
    "# create rate of change function\n",
    "def rate_chg(df, year1, year2, chg):\n",
    "    df[chg] = np.where((df[year1]==0),\n",
    "                       ((df[year2] - df[year1]) / 1).round(4),\n",
    "                       ((df[year2] - df[year1]) / df[year1]).round(4))\n",
    "    \n",
    "# create geographical and regional national job share and change columns\n",
    "dicts = [d1, d2]\n",
    "for d in dicts:\n",
    "    for key in d.keys():\n",
    "        # job share\n",
    "        for col in d[key].columns:\n",
    "            d[key]['emplpct_' + col[-2:]] = (d[key][col] / d[key][col].sum()).round(4)\n",
    "\n",
    "        # define % change column namer\n",
    "        namer = d[key].columns.str.split('_')\n",
    "        for x in range(0,3):\n",
    "            \n",
    "            # % change 90-00, 00-10, 10-20\n",
    "            rate_chg(d[key], d[key].columns[x], d[key].columns[x+1], 'pct_chg_' + namer[x][3] + '_' + namer[x+1][3])\n",
    "            \n",
    "            # overall % change 90-20\n",
    "            d[key]['pct_chg_90_20'] = np.where((d[key]['annual_avg_emplvl_90'] == 0),\n",
    "                                               ((d[key]['annual_avg_emplvl_20'] - d[key]['annual_avg_emplvl_90']) / 1).round(4),\n",
    "                                               ((d[key]['annual_avg_emplvl_20'] - d[key]['annual_avg_emplvl_90']) / d[key]['annual_avg_emplvl_90']).round(4))"
   ]
  },
  {
   "cell_type": "code",
   "execution_count": 6,
   "id": "7698ebfd",
   "metadata": {},
   "outputs": [],
   "source": [
    "# do same for states, make some tweaks for the different df structure\n",
    "for key in d3.keys():\n",
    "    # job share\n",
    "    for col in d3[key].columns[2:]:\n",
    "        d3[key]['emplpct_' + col[-2:]] = (d3[key][col] / d3[key][col].sum()).round(4)\n",
    "\n",
    "    # define % change column namer\n",
    "    namer = d3[key].columns.str.split('_')\n",
    "    for x in range(0,3):\n",
    "            \n",
    "        # % change 90-00, 00-10, 10-20\n",
    "        rate_chg(d3[key], d3[key].columns[2:][x], d3[key].columns[2:][x+1], 'pct_chg_' + namer[x+2][3] + '_' + namer[x+3][3])\n",
    "            \n",
    "        # overall % change 90-20\n",
    "        d3[key]['pct_chg_90_20'] = np.where((d3[key]['annual_avg_emplvl_90'] == 0),\n",
    "                                           ((d3[key]['annual_avg_emplvl_20'] - d3[key]['annual_avg_emplvl_90']) / 1).round(4),\n",
    "                                           ((d3[key]['annual_avg_emplvl_20'] - d3[key]['annual_avg_emplvl_90']) / d3[key]['annual_avg_emplvl_90']).round(4))"
   ]
  },
  {
   "cell_type": "code",
   "execution_count": 7,
   "id": "6ff39622",
   "metadata": {},
   "outputs": [],
   "source": [
    "# export to CSVs\n",
    "for key in d1.keys():\n",
    "    d1[key].to_csv('analysis/geo_naics_' + key[-2:] + '.csv',) #index_label=False)\n",
    "\n",
    "for key in d2.keys():\n",
    "    d2[key].to_csv('analysis/region_naics_' + key[-2:] + '.csv',)# index_label=False)\n",
    "    \n",
    "for key in d3.keys():\n",
    "    d3[key].to_csv('analysis/state_naics_' + key[-2:] + '.csv',)# index_label=False)"
   ]
  }
 ],
 "metadata": {
  "kernelspec": {
   "display_name": "Python (ppd599)",
   "language": "python",
   "name": "ppd599"
  },
  "language_info": {
   "codemirror_mode": {
    "name": "ipython",
    "version": 3
   },
   "file_extension": ".py",
   "mimetype": "text/x-python",
   "name": "python",
   "nbconvert_exporter": "python",
   "pygments_lexer": "ipython3",
   "version": "3.9.2"
  }
 },
 "nbformat": 4,
 "nbformat_minor": 5
}
