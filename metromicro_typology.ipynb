{
 "cells": [
  {
   "cell_type": "code",
   "execution_count": 1,
   "id": "66b98ca4",
   "metadata": {},
   "outputs": [],
   "source": [
    "import numpy as np\n",
    "import pandas as pd\n",
    "#import os\n",
    "#import warnings\n",
    "#warnings.filterwarnings('ignore')\n",
    "#import matplotlib.pyplot as plt"
   ]
  },
  {
   "cell_type": "code",
   "execution_count": 2,
   "id": "6ddbec89",
   "metadata": {},
   "outputs": [],
   "source": [
    "omb03 = pd.read_csv('omb-cbsa-csa_2003.csv')\n",
    "bls13 = pd.read_csv('qcew-county-msa-csa-crosswalk.csv', encoding = 'ISO-8859-1')\n",
    "cen20 = pd.read_csv('census_2020.csv')\n",
    "met20 = pd.read_csv('METROS_2020.csv')\n",
    "mic20 = pd.read_csv('MICROS_2020.csv')\n",
    "bea20 = pd.read_csv('BEA_2020.csv')"
   ]
  },
  {
   "cell_type": "code",
   "execution_count": 3,
   "id": "b93cebc4",
   "metadata": {},
   "outputs": [],
   "source": [
    "# check for metro/micro county overlaps in Kurt's doc\n",
    "if len(met20[met20['COUNTY_FIPS'].isin(mic20['COUNTY_FIPS'])]) == 0:\n",
    "    kwm20 = pd.concat([met20, mic20])\n",
    "else:\n",
    "    print('error')\n",
    "    \n",
    "kwm20['type_kurt20'] = kwm20['MSA_NAME'].str.split('(').str[1].str[:5]\n",
    "kwm20 = kwm20.rename(columns={'COUNTY_FIPS':'fips'})\n",
    "kwm20['fips'] = kwm20['fips'].astype(str).str.zfill(5)"
   ]
  },
  {
   "cell_type": "code",
   "execution_count": 4,
   "id": "49f15722",
   "metadata": {},
   "outputs": [
    {
     "data": {
      "text/html": [
       "<div>\n",
       "<style scoped>\n",
       "    .dataframe tbody tr th:only-of-type {\n",
       "        vertical-align: middle;\n",
       "    }\n",
       "\n",
       "    .dataframe tbody tr th {\n",
       "        vertical-align: top;\n",
       "    }\n",
       "\n",
       "    .dataframe thead th {\n",
       "        text-align: right;\n",
       "    }\n",
       "</style>\n",
       "<table border=\"1\" class=\"dataframe\">\n",
       "  <thead>\n",
       "    <tr style=\"text-align: right;\">\n",
       "      <th></th>\n",
       "      <th>msa_code</th>\n",
       "      <th>msa</th>\n",
       "      <th>fips</th>\n",
       "      <th>county_name</th>\n",
       "      <th>type_bea20</th>\n",
       "      <th>MSA_CODE</th>\n",
       "      <th>MSA_NAME</th>\n",
       "      <th>COUNTY_NAME</th>\n",
       "      <th>type_kurt20</th>\n",
       "    </tr>\n",
       "  </thead>\n",
       "  <tbody>\n",
       "    <tr>\n",
       "      <th>1160</th>\n",
       "      <td>10100</td>\n",
       "      <td>Aberdeen, SD (Micropolitan Statistical Area)</td>\n",
       "      <td>46013</td>\n",
       "      <td>Brown, SD</td>\n",
       "      <td>Micro</td>\n",
       "      <td>NaN</td>\n",
       "      <td>NaN</td>\n",
       "      <td>NaN</td>\n",
       "      <td>NaN</td>\n",
       "    </tr>\n",
       "  </tbody>\n",
       "</table>\n",
       "</div>"
      ],
      "text/plain": [
       "      msa_code                                           msa   fips  \\\n",
       "1160     10100  Aberdeen, SD (Micropolitan Statistical Area)  46013   \n",
       "\n",
       "     county_name type_bea20  MSA_CODE MSA_NAME COUNTY_NAME type_kurt20  \n",
       "1160   Brown, SD      Micro       NaN      NaN         NaN         NaN  "
      ]
     },
     "execution_count": 4,
     "metadata": {},
     "output_type": "execute_result"
    }
   ],
   "source": [
    "# check how similar kurt and BEA's typologies are\n",
    "bea20['type_bea20'] = bea20['msa'].str.split('(').str[1].str[:5]\n",
    "bea20['fips'] = bea20['fips'].astype(str).str.zfill(5)\n",
    "temp = bea20.merge(kwm20, how='left', left_on='fips', right_on='fips')\n",
    "temp[temp['type_bea20'] != temp['type_kurt20']]\n",
    "# for some reason, Kurt's sheet is missing Brown, SD, a micropolitan county"
   ]
  },
  {
   "cell_type": "code",
   "execution_count": null,
   "id": "1bc09e9b",
   "metadata": {},
   "outputs": [],
   "source": []
  },
  {
   "cell_type": "code",
   "execution_count": 5,
   "id": "ba031726",
   "metadata": {},
   "outputs": [],
   "source": [
    "cen20 = cen20.dropna(subset='Metropolitan/Micropolitan Statistical Area')\n",
    "cen20['FIPS State Code'] = cen20['FIPS State Code'].astype(int).astype(str).str.zfill(2)\n",
    "cen20['FIPS County Code'] = cen20['FIPS County Code'].astype(int).astype(str).str.zfill(3)\n",
    "cen20['fips'] = cen20['FIPS State Code'] + cen20['FIPS County Code']\n",
    "cen20['type_census20'] = cen20['Metropolitan/Micropolitan Statistical Area'].str[:5]"
   ]
  },
  {
   "cell_type": "code",
   "execution_count": 6,
   "id": "e375ebdb",
   "metadata": {},
   "outputs": [],
   "source": [
    "bls13['County Code'] = bls13['County Code'].astype(str).str.zfill(5)\n",
    "mask = bls13['County Code'].str[:1] != '7'\n",
    "\n",
    "cols = ['County Code', 'County Title', 'MSA Type']\n",
    "bls13 = bls13[mask]\n",
    "bls13 = bls13[cols].rename(columns={'County Code':'fips', 'MSA Type':'type_bls13'})"
   ]
  },
  {
   "cell_type": "code",
   "execution_count": 7,
   "id": "ad82d3bb",
   "metadata": {},
   "outputs": [],
   "source": [
    "omb03 = omb03.sort_values(by='FIPS').reset_index(drop=True)\n",
    "omb03['FIPS'] = omb03['FIPS'].astype(str).str.zfill(5)\n",
    "omb03['MSA Type_03'] = np.where(omb03['Status, 1=metro 2=micro'] == 1, 'Metro', 'Micro')\n",
    "mask = omb03['FIPS'].str[:1] != '7'\n",
    "cols2 = ['FIPS', 'Component Name','State', 'MSA Type_03']\n",
    "\n",
    "omb03 = omb03[mask]\n",
    "omb03 = omb03[cols2].rename(columns={'FIPS':'fips', 'MSA Type_03':'type_census03'})"
   ]
  },
  {
   "cell_type": "code",
   "execution_count": 8,
   "id": "f7aa98ac",
   "metadata": {},
   "outputs": [
    {
     "data": {
      "text/html": [
       "<div>\n",
       "<style scoped>\n",
       "    .dataframe tbody tr th:only-of-type {\n",
       "        vertical-align: middle;\n",
       "    }\n",
       "\n",
       "    .dataframe tbody tr th {\n",
       "        vertical-align: top;\n",
       "    }\n",
       "\n",
       "    .dataframe thead th {\n",
       "        text-align: right;\n",
       "    }\n",
       "</style>\n",
       "<table border=\"1\" class=\"dataframe\">\n",
       "  <thead>\n",
       "    <tr style=\"text-align: right;\">\n",
       "      <th></th>\n",
       "      <th>fips</th>\n",
       "      <th>type_census03</th>\n",
       "      <th>type_bls13</th>\n",
       "      <th>type_census20</th>\n",
       "      <th>type_kurt20</th>\n",
       "    </tr>\n",
       "  </thead>\n",
       "  <tbody>\n",
       "    <tr>\n",
       "      <th>0</th>\n",
       "      <td>01001</td>\n",
       "      <td>Metro</td>\n",
       "      <td>Metro</td>\n",
       "      <td>Metro</td>\n",
       "      <td>Metro</td>\n",
       "    </tr>\n",
       "    <tr>\n",
       "      <th>1</th>\n",
       "      <td>01003</td>\n",
       "      <td>Micro</td>\n",
       "      <td>Metro</td>\n",
       "      <td>Metro</td>\n",
       "      <td>Metro</td>\n",
       "    </tr>\n",
       "    <tr>\n",
       "      <th>2</th>\n",
       "      <td>01005</td>\n",
       "      <td>NaN</td>\n",
       "      <td>NaN</td>\n",
       "      <td>Micro</td>\n",
       "      <td>Micro</td>\n",
       "    </tr>\n",
       "    <tr>\n",
       "      <th>3</th>\n",
       "      <td>01007</td>\n",
       "      <td>Metro</td>\n",
       "      <td>Metro</td>\n",
       "      <td>Metro</td>\n",
       "      <td>Metro</td>\n",
       "    </tr>\n",
       "    <tr>\n",
       "      <th>4</th>\n",
       "      <td>01009</td>\n",
       "      <td>Metro</td>\n",
       "      <td>Metro</td>\n",
       "      <td>Metro</td>\n",
       "      <td>Metro</td>\n",
       "    </tr>\n",
       "    <tr>\n",
       "      <th>...</th>\n",
       "      <td>...</td>\n",
       "      <td>...</td>\n",
       "      <td>...</td>\n",
       "      <td>...</td>\n",
       "      <td>...</td>\n",
       "    </tr>\n",
       "    <tr>\n",
       "      <th>3165</th>\n",
       "      <td>56037</td>\n",
       "      <td>Micro</td>\n",
       "      <td>Micro</td>\n",
       "      <td>Micro</td>\n",
       "      <td>Micro</td>\n",
       "    </tr>\n",
       "    <tr>\n",
       "      <th>3166</th>\n",
       "      <td>56039</td>\n",
       "      <td>Micro</td>\n",
       "      <td>Micro</td>\n",
       "      <td>Micro</td>\n",
       "      <td>Micro</td>\n",
       "    </tr>\n",
       "    <tr>\n",
       "      <th>3167</th>\n",
       "      <td>56041</td>\n",
       "      <td>Micro</td>\n",
       "      <td>Micro</td>\n",
       "      <td>Micro</td>\n",
       "      <td>Micro</td>\n",
       "    </tr>\n",
       "    <tr>\n",
       "      <th>3168</th>\n",
       "      <td>56043</td>\n",
       "      <td>NaN</td>\n",
       "      <td>NaN</td>\n",
       "      <td>NaN</td>\n",
       "      <td>NaN</td>\n",
       "    </tr>\n",
       "    <tr>\n",
       "      <th>3169</th>\n",
       "      <td>56045</td>\n",
       "      <td>NaN</td>\n",
       "      <td>NaN</td>\n",
       "      <td>Micro</td>\n",
       "      <td>Micro</td>\n",
       "    </tr>\n",
       "  </tbody>\n",
       "</table>\n",
       "<p>3170 rows × 5 columns</p>\n",
       "</div>"
      ],
      "text/plain": [
       "       fips type_census03 type_bls13 type_census20 type_kurt20\n",
       "0     01001         Metro      Metro         Metro       Metro\n",
       "1     01003         Micro      Metro         Metro       Metro\n",
       "2     01005           NaN        NaN         Micro       Micro\n",
       "3     01007         Metro      Metro         Metro       Metro\n",
       "4     01009         Metro      Metro         Metro       Metro\n",
       "...     ...           ...        ...           ...         ...\n",
       "3165  56037         Micro      Micro         Micro       Micro\n",
       "3166  56039         Micro      Micro         Micro       Micro\n",
       "3167  56041         Micro      Micro         Micro       Micro\n",
       "3168  56043           NaN        NaN           NaN         NaN\n",
       "3169  56045           NaN        NaN         Micro       Micro\n",
       "\n",
       "[3170 rows x 5 columns]"
      ]
     },
     "execution_count": 8,
     "metadata": {},
     "output_type": "execute_result"
    }
   ],
   "source": [
    "df = bls13.merge(omb03, how='left', left_on='fips', right_on='fips')\n",
    "df = df.merge(kwm20, how='left', left_on='fips', right_on='fips')\n",
    "df = df.merge(cen20, how='left', left_on='fips', right_on='fips')\n",
    "\n",
    "cols3 = ['fips', 'type_census03', 'type_bls13', 'type_census20', 'type_kurt20']\n",
    "df[cols3]"
   ]
  },
  {
   "cell_type": "code",
   "execution_count": 13,
   "id": "b78acf70",
   "metadata": {},
   "outputs": [
    {
     "data": {
      "text/html": [
       "<div>\n",
       "<style scoped>\n",
       "    .dataframe tbody tr th:only-of-type {\n",
       "        vertical-align: middle;\n",
       "    }\n",
       "\n",
       "    .dataframe tbody tr th {\n",
       "        vertical-align: top;\n",
       "    }\n",
       "\n",
       "    .dataframe thead th {\n",
       "        text-align: right;\n",
       "    }\n",
       "</style>\n",
       "<table border=\"1\" class=\"dataframe\">\n",
       "  <thead>\n",
       "    <tr style=\"text-align: right;\">\n",
       "      <th></th>\n",
       "      <th>County Title</th>\n",
       "      <th>Component Name</th>\n",
       "      <th>fips</th>\n",
       "      <th>type_census03</th>\n",
       "      <th>type_bls13</th>\n",
       "      <th>type_census20</th>\n",
       "      <th>type_kurt20</th>\n",
       "    </tr>\n",
       "  </thead>\n",
       "  <tbody>\n",
       "    <tr>\n",
       "      <th>664</th>\n",
       "      <td>LaSalle County, Illinois</td>\n",
       "      <td>La Salle County</td>\n",
       "      <td>17099</td>\n",
       "      <td>Micro</td>\n",
       "      <td>Micro</td>\n",
       "      <td>Micro</td>\n",
       "      <td>Micro</td>\n",
       "    </tr>\n",
       "    <tr>\n",
       "      <th>1824</th>\n",
       "      <td>Doña Ana County, New Mexico</td>\n",
       "      <td>Dona Ana County</td>\n",
       "      <td>35013</td>\n",
       "      <td>Metro</td>\n",
       "      <td>Metro</td>\n",
       "      <td>Metro</td>\n",
       "      <td>Metro</td>\n",
       "    </tr>\n",
       "  </tbody>\n",
       "</table>\n",
       "</div>"
      ],
      "text/plain": [
       "                     County Title   Component Name   fips type_census03  \\\n",
       "664      LaSalle County, Illinois  La Salle County  17099         Micro   \n",
       "1824  Doña Ana County, New Mexico  Dona Ana County  35013         Metro   \n",
       "\n",
       "     type_bls13 type_census20 type_kurt20  \n",
       "664       Micro         Micro       Micro  \n",
       "1824      Metro         Metro       Metro  "
      ]
     },
     "execution_count": 13,
     "metadata": {},
     "output_type": "execute_result"
    }
   ],
   "source": [
    "# unmatched counties (aka did not appear in the 03 typology)\n",
    "# besides nulls, only discrepancies are due to spelling\n",
    "df[['County Title', 'Component Name'] + cols3][df['County Title'].str.split(' ').str[0] != df['Component Name'].str.split(' ').str[0]].dropna()"
   ]
  },
  {
   "cell_type": "code",
   "execution_count": 14,
   "id": "d6740b2d",
   "metadata": {},
   "outputs": [],
   "source": [
    "# create state names column\n",
    "df['State'] = df['County Title'].str.split(', ').str[-1]"
   ]
  },
  {
   "cell_type": "markdown",
   "id": "bcbb014a",
   "metadata": {},
   "source": [
    "We've got Metro Micro and null values. According to HHS: _The Census does not actually define \"rural.\" \"Rural\" encompasses all population, housing, and territory not included within an urban area.  Whatever is not urban is considered rural._"
   ]
  },
  {
   "cell_type": "code",
   "execution_count": 15,
   "id": "e93ab536",
   "metadata": {},
   "outputs": [],
   "source": [
    "# so we change null typologies to Rural\n",
    "for col in cols3[1:]:\n",
    "    df.loc[df[col].isna(), col] = 'Rural'"
   ]
  },
  {
   "cell_type": "markdown",
   "id": "cc902986",
   "metadata": {},
   "source": [
    "All of these counties are counted as Metro in our BLS data, but in classifyng them as urban are we taking away from rural job growth?\n",
    "\n",
    "To rectify this properly, we would have to consider what led to this status change: was it population growth, migration patterns, political boundary shifting? With this info, we could better track rural county development."
   ]
  },
  {
   "cell_type": "code",
   "execution_count": null,
   "id": "ba755b4b",
   "metadata": {},
   "outputs": [],
   "source": [
    "# export\n",
    "df[cols3 + ['State', 'County Title']].to_csv('typology.csv', index_label=False)\n",
    "# open in BLS3"
   ]
  },
  {
   "cell_type": "markdown",
   "id": "a6a9740d",
   "metadata": {},
   "source": [
    "#### explore data"
   ]
  },
  {
   "cell_type": "code",
   "execution_count": 17,
   "id": "08eade77",
   "metadata": {},
   "outputs": [
    {
     "data": {
      "text/html": [
       "<div>\n",
       "<style scoped>\n",
       "    .dataframe tbody tr th:only-of-type {\n",
       "        vertical-align: middle;\n",
       "    }\n",
       "\n",
       "    .dataframe tbody tr th {\n",
       "        vertical-align: top;\n",
       "    }\n",
       "\n",
       "    .dataframe thead th {\n",
       "        text-align: right;\n",
       "    }\n",
       "</style>\n",
       "<table border=\"1\" class=\"dataframe\">\n",
       "  <thead>\n",
       "    <tr style=\"text-align: right;\">\n",
       "      <th></th>\n",
       "      <th>fips</th>\n",
       "      <th>County Title</th>\n",
       "      <th>type_bls13</th>\n",
       "      <th>Component Name</th>\n",
       "      <th>State</th>\n",
       "      <th>type_census03</th>\n",
       "      <th>MSA_CODE</th>\n",
       "      <th>MSA_NAME</th>\n",
       "      <th>COUNTY_NAME</th>\n",
       "      <th>type_kurt20</th>\n",
       "      <th>...</th>\n",
       "      <th>CBSA Title</th>\n",
       "      <th>Metropolitan/Micropolitan Statistical Area</th>\n",
       "      <th>Metropolitan Division Title</th>\n",
       "      <th>CSA Title</th>\n",
       "      <th>County/County Equivalent</th>\n",
       "      <th>State Name</th>\n",
       "      <th>FIPS State Code</th>\n",
       "      <th>FIPS County Code</th>\n",
       "      <th>Central/Outlying County</th>\n",
       "      <th>type_census20</th>\n",
       "    </tr>\n",
       "  </thead>\n",
       "  <tbody>\n",
       "    <tr>\n",
       "      <th>2389</th>\n",
       "      <td>46013</td>\n",
       "      <td>Brown County, South Dakota</td>\n",
       "      <td>Micro</td>\n",
       "      <td>Brown County</td>\n",
       "      <td>South Dakota</td>\n",
       "      <td>Micro</td>\n",
       "      <td>NaN</td>\n",
       "      <td>NaN</td>\n",
       "      <td>NaN</td>\n",
       "      <td>Rural</td>\n",
       "      <td>...</td>\n",
       "      <td>Aberdeen, SD</td>\n",
       "      <td>Micropolitan Statistical Area</td>\n",
       "      <td>NaN</td>\n",
       "      <td>NaN</td>\n",
       "      <td>Brown County</td>\n",
       "      <td>South Dakota</td>\n",
       "      <td>46</td>\n",
       "      <td>013</td>\n",
       "      <td>Central</td>\n",
       "      <td>Micro</td>\n",
       "    </tr>\n",
       "  </tbody>\n",
       "</table>\n",
       "<p>1 rows × 23 columns</p>\n",
       "</div>"
      ],
      "text/plain": [
       "       fips                County Title type_bls13 Component Name  \\\n",
       "2389  46013  Brown County, South Dakota      Micro   Brown County   \n",
       "\n",
       "             State type_census03  MSA_CODE MSA_NAME COUNTY_NAME type_kurt20  \\\n",
       "2389  South Dakota         Micro       NaN      NaN         NaN       Rural   \n",
       "\n",
       "      ...    CBSA Title  Metropolitan/Micropolitan Statistical Area  \\\n",
       "2389  ...  Aberdeen, SD               Micropolitan Statistical Area   \n",
       "\n",
       "      Metropolitan Division Title CSA Title County/County Equivalent  \\\n",
       "2389                          NaN       NaN             Brown County   \n",
       "\n",
       "        State Name FIPS State Code FIPS County Code Central/Outlying County  \\\n",
       "2389  South Dakota              46              013                 Central   \n",
       "\n",
       "     type_census20  \n",
       "2389         Micro  \n",
       "\n",
       "[1 rows x 23 columns]"
      ]
     },
     "execution_count": 17,
     "metadata": {},
     "output_type": "execute_result"
    }
   ],
   "source": [
    "# Brown County, SD accounted for here--only missing in Kurt's\n",
    "df[df['fips'] == '46013']"
   ]
  },
  {
   "cell_type": "code",
   "execution_count": 103,
   "id": "d301a6be",
   "metadata": {},
   "outputs": [
    {
     "name": "stdout",
     "output_type": "stream",
     "text": [
      "Total Counties: 3170\n",
      "Mixed Classifications: 351\n"
     ]
    }
   ],
   "source": [
    "# create DF of all counties that have heterogenous classifications\n",
    "df['align'] = df['type_census03'].str[0:2] + df['type_bls13'].str[0:2] + df['type_census20'].str[0:2] + df['type_kurt20'].str[0:2]\n",
    "searchfor = ['RuRuRuRu', 'MiMiMiMi', 'MeMeMeMe']\n",
    "het = df[~df['align'].str.contains('|'.join(searchfor))]\n",
    "print('Total Counties:', len(df))\n",
    "print('Mixed Classifications:', len(het))"
   ]
  },
  {
   "cell_type": "code",
   "execution_count": 102,
   "id": "24fcaa94",
   "metadata": {},
   "outputs": [
    {
     "name": "stdout",
     "output_type": "stream",
     "text": [
      "2003-13: 234\n",
      "2013-20: 140\n"
     ]
    }
   ],
   "source": [
    "# how many classifications changed over time?\n",
    "print('2003-13:', len(het[cols3][het['type_census03'] != het['type_bls13']]))\n",
    "print('2013-20:', len(het[cols3][het['type_bls13'] != het['type_census20']]))"
   ]
  },
  {
   "cell_type": "code",
   "execution_count": 98,
   "id": "72abe92a",
   "metadata": {},
   "outputs": [
    {
     "data": {
      "text/plain": [
       "45"
      ]
     },
     "execution_count": 98,
     "metadata": {},
     "output_type": "execute_result"
    }
   ],
   "source": [
    "# how many differ bc of errors within same year data?\n",
    "len(het[het['type_census20'] != het['type_kurt20']])"
   ]
  },
  {
   "cell_type": "markdown",
   "id": "bc729499",
   "metadata": {},
   "source": [
    "Classification scheme selection is hugely important and needs to be addressed. Won't change the analysis much but will alter the exact numbers."
   ]
  }
 ],
 "metadata": {
  "kernelspec": {
   "display_name": "Python (ppd599)",
   "language": "python",
   "name": "ppd599"
  },
  "language_info": {
   "codemirror_mode": {
    "name": "ipython",
    "version": 3
   },
   "file_extension": ".py",
   "mimetype": "text/x-python",
   "name": "python",
   "nbconvert_exporter": "python",
   "pygments_lexer": "ipython3",
   "version": "3.9.2"
  }
 },
 "nbformat": 4,
 "nbformat_minor": 5
}
