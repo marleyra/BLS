{
 "cells": [
  {
   "cell_type": "markdown",
   "id": "4ee0d539",
   "metadata": {},
   "source": [
    "# Set-up"
   ]
  },
  {
   "cell_type": "code",
   "execution_count": 2,
   "id": "dc81eb6c",
   "metadata": {},
   "outputs": [],
   "source": [
    "import pandas as pd\n",
    "import numpy as np\n",
    "import matplotlib.pyplot as plt\n",
    "import matplotlib.ticker as ticker\n",
    "import textwrap\n",
    "\n",
    "# for custom system fonts\n",
    "import os\n",
    "from matplotlib import font_manager as fm"
   ]
  },
  {
   "cell_type": "code",
   "execution_count": 3,
   "id": "91af938b",
   "metadata": {},
   "outputs": [],
   "source": [
    "# grab system font\n",
    "fpath = os.path.join('/Users/marley/Library/Fonts/CENSCBK.TTF')\n",
    "prop = fm.FontProperties(fname=fpath, size=10)\n",
    "fname = os.path.split(fpath)[1]   "
   ]
  },
  {
   "cell_type": "code",
   "execution_count": 11,
   "id": "17345b7b",
   "metadata": {},
   "outputs": [],
   "source": [
    "folder = sorted(os.listdir('../data_files'))\n",
    "for file in folder:\n",
    "    if file[-4:] != '.csv':\n",
    "        folder.remove(file)\n",
    "    else:\n",
    "        pass\n",
    "folder = folder[1:-1]"
   ]
  },
  {
   "cell_type": "code",
   "execution_count": 12,
   "id": "4af86464",
   "metadata": {},
   "outputs": [],
   "source": [
    "# reset counter to begin at 0\n",
    "n = -1"
   ]
  },
  {
   "cell_type": "markdown",
   "id": "33f4cfae",
   "metadata": {},
   "source": [
    "# ** Choose File **"
   ]
  },
  {
   "cell_type": "code",
   "execution_count": 13,
   "id": "af6a7dde",
   "metadata": {},
   "outputs": [
    {
     "data": {
      "text/plain": [
       "-1"
      ]
     },
     "execution_count": 13,
     "metadata": {},
     "output_type": "execute_result"
    }
   ],
   "source": [
    "n"
   ]
  },
  {
   "cell_type": "code",
   "execution_count": 14,
   "id": "487c1a54",
   "metadata": {},
   "outputs": [
    {
     "name": "stdout",
     "output_type": "stream",
     "text": [
      "file number: 0\n"
     ]
    },
    {
     "data": {
      "text/html": [
       "<div>\n",
       "<style scoped>\n",
       "    .dataframe tbody tr th:only-of-type {\n",
       "        vertical-align: middle;\n",
       "    }\n",
       "\n",
       "    .dataframe tbody tr th {\n",
       "        vertical-align: top;\n",
       "    }\n",
       "\n",
       "    .dataframe thead th {\n",
       "        text-align: right;\n",
       "    }\n",
       "</style>\n",
       "<table border=\"1\" class=\"dataframe\">\n",
       "  <thead>\n",
       "    <tr style=\"text-align: right;\">\n",
       "      <th></th>\n",
       "      <th>Top Responses on Democracy &amp; US Government</th>\n",
       "      <th>Urban</th>\n",
       "      <th>Rural</th>\n",
       "    </tr>\n",
       "  </thead>\n",
       "  <tbody>\n",
       "    <tr>\n",
       "      <th>0</th>\n",
       "      <td>\"Somewhat Proud\" of How American Democracy Works</td>\n",
       "      <td>0.466</td>\n",
       "      <td>0.483</td>\n",
       "    </tr>\n",
       "    <tr>\n",
       "      <th>1</th>\n",
       "      <td>\"Hardly Any\" Confidence in the Executive Branch</td>\n",
       "      <td>0.467</td>\n",
       "      <td>0.444</td>\n",
       "    </tr>\n",
       "    <tr>\n",
       "      <th>2</th>\n",
       "      <td>\"Hardly Any\" Confidence in the Legislative Branch</td>\n",
       "      <td>0.477</td>\n",
       "      <td>0.444</td>\n",
       "    </tr>\n",
       "    <tr>\n",
       "      <th>3</th>\n",
       "      <td>\"Only Some\" Confidence in the Judicial Branch</td>\n",
       "      <td>0.512</td>\n",
       "      <td>0.539</td>\n",
       "    </tr>\n",
       "  </tbody>\n",
       "</table>\n",
       "</div>"
      ],
      "text/plain": [
       "          Top Responses on Democracy & US Government  Urban  Rural\n",
       "0   \"Somewhat Proud\" of How American Democracy Works  0.466  0.483\n",
       "1    \"Hardly Any\" Confidence in the Executive Branch  0.467  0.444\n",
       "2  \"Hardly Any\" Confidence in the Legislative Branch  0.477  0.444\n",
       "3      \"Only Some\" Confidence in the Judicial Branch  0.512  0.539"
      ]
     },
     "execution_count": 14,
     "metadata": {},
     "output_type": "execute_result"
    }
   ],
   "source": [
    "n = n + 1\n",
    "print('file number:',n)\n",
    "\n",
    "file = folder[n]\n",
    "g = pd.read_csv(file)\n",
    "g"
   ]
  },
  {
   "cell_type": "markdown",
   "id": "90e59b1a",
   "metadata": {},
   "source": [
    "# % Graphs"
   ]
  },
  {
   "cell_type": "code",
   "execution_count": 7,
   "id": "613024f6",
   "metadata": {},
   "outputs": [
    {
     "data": {
      "text/html": [
       "<div>\n",
       "<style scoped>\n",
       "    .dataframe tbody tr th:only-of-type {\n",
       "        vertical-align: middle;\n",
       "    }\n",
       "\n",
       "    .dataframe tbody tr th {\n",
       "        vertical-align: top;\n",
       "    }\n",
       "\n",
       "    .dataframe thead th {\n",
       "        text-align: right;\n",
       "    }\n",
       "</style>\n",
       "<table border=\"1\" class=\"dataframe\">\n",
       "  <thead>\n",
       "    <tr style=\"text-align: right;\">\n",
       "      <th></th>\n",
       "      <th>Urban</th>\n",
       "      <th>Rural</th>\n",
       "    </tr>\n",
       "    <tr>\n",
       "      <th>Attitudes Towards Atheists</th>\n",
       "      <th></th>\n",
       "      <th></th>\n",
       "    </tr>\n",
       "  </thead>\n",
       "  <tbody>\n",
       "    <tr>\n",
       "      <th>Very Positive</th>\n",
       "      <td>0.100</td>\n",
       "      <td>0.060</td>\n",
       "    </tr>\n",
       "    <tr>\n",
       "      <th>Somewhat Positive</th>\n",
       "      <td>0.219</td>\n",
       "      <td>0.113</td>\n",
       "    </tr>\n",
       "    <tr>\n",
       "      <th>Neither Positive nor Negative</th>\n",
       "      <td>0.421</td>\n",
       "      <td>0.391</td>\n",
       "    </tr>\n",
       "    <tr>\n",
       "      <th>Somewhat Negative</th>\n",
       "      <td>0.129</td>\n",
       "      <td>0.113</td>\n",
       "    </tr>\n",
       "    <tr>\n",
       "      <th>Very Negative</th>\n",
       "      <td>0.079</td>\n",
       "      <td>0.248</td>\n",
       "    </tr>\n",
       "  </tbody>\n",
       "</table>\n",
       "</div>"
      ],
      "text/plain": [
       "                               Urban  Rural\n",
       "Attitudes Towards Atheists                 \n",
       "Very Positive                  0.100  0.060\n",
       "Somewhat Positive              0.219  0.113\n",
       "Neither Positive nor Negative  0.421  0.391\n",
       "Somewhat Negative              0.129  0.113\n",
       "Very Negative                  0.079  0.248"
      ]
     },
     "execution_count": 7,
     "metadata": {},
     "output_type": "execute_result"
    }
   ],
   "source": [
    "# adjust\n",
    "#file = folder[n]\n",
    "file = 'ch1_fig10.csv'\n",
    "g = pd.read_csv(file)\n",
    "g = g.set_index(g.iloc[:,0])\n",
    "g = g.drop(g.iloc[:,0].name, axis=1)\n",
    "#g = g.drop('Diff', axis=1)\n",
    "#g.Urban = g.Urban.str[:-1].astype(float) / 100\n",
    "#g.Rural = g.Rural.str[:-1].astype(float) / 100\n",
    "#g = g.iloc[:4,:2]\n",
    "#g = g.dropna()\n",
    "g"
   ]
  },
  {
   "cell_type": "code",
   "execution_count": null,
   "id": "b8e7cb23",
   "metadata": {},
   "outputs": [],
   "source": [
    "g.index.name = 'Regional Agricultural Employment Dynamics'"
   ]
  },
  {
   "cell_type": "code",
   "execution_count": null,
   "id": "544ced39",
   "metadata": {},
   "outputs": [],
   "source": [
    "# IF looks good, overwrite saved file\n",
    "g.to_csv(file)"
   ]
  },
  {
   "cell_type": "code",
   "execution_count": 14,
   "id": "74114e21",
   "metadata": {},
   "outputs": [
    {
     "data": {
      "image/png": "[encoded data removed]",
      "text/plain": [
       "<Figure size 648x360 with 1 Axes>"
      ]
     },
     "metadata": {
      "needs_background": "light"
     },
     "output_type": "display_data"
    }
   ],
   "source": [
    "# set graph specs\n",
    "legendheight = -0.2\n",
    "width = 0.225\n",
    "title = g.index.name#[:-11]\n",
    "bartextsize = 9\n",
    "filename = file[:-4]\n",
    "\n",
    "# define function to add label to top of bars\n",
    "def autolabel(bars):\n",
    "    for bar in bars:\n",
    "        height = bar.get_height()\n",
    "        if height > 0:\n",
    "            height = height + .0075\n",
    "        else:\n",
    "            height = height - .035\n",
    "        ax.annotate(str((height * 100).round(1)) + '%',\n",
    "                    xy=(bar.get_x() + bar.get_width()/2, height),\n",
    "                    ha='center',\n",
    "                    fontproperties=prop,\n",
    "                    fontsize=bartextsize)\n",
    "        \n",
    "# define text wrapping function\n",
    "def wrap_labels(ax, width, break_long_words=False):\n",
    "    labels = []\n",
    "    for label in ax.get_xticklabels():\n",
    "        text = label.get_text()\n",
    "        labels.append(textwrap.fill(text, width=width,\n",
    "                                    break_long_words=break_long_words))\n",
    "    ax.set_xticklabels(labels, rotation=0) \n",
    "    \n",
    "fig, ax = plt.subplots(figsize=(9,5))\n",
    "ax.grid(visible=None, which='major', axis='y', linestyle = ':', linewidth = .75, zorder=0)\n",
    "plt.rcParams['hatch.linewidth'] = .15\n",
    "    \n",
    "x_metro = [x - width/2 - .02 for x in range(len(g.Urban))]\n",
    "x_rural = [x + width/2 + .02 for x in range(len(g.Rural))]\n",
    "\n",
    "bar1 = ax.bar(x_metro, g.Urban, width, zorder=3, label='Urban', color='black', edgecolor='black', lw=.7)\n",
    "bar2 = ax.bar(x_rural, g.Rural, width, zorder=3, label='Rural', color='white', edgecolor='black', hatch='/////////', lw=.7)\n",
    "ax.bar(g.index, 0)\n",
    "\n",
    "autolabel(bar1)\n",
    "autolabel(bar2)\n",
    "    \n",
    "ax.set_title(title, fontproperties=prop, size=12)\n",
    "#ax.set_ylabel(ytitle, fontproperties=prop) # set title and font\n",
    "ax.tick_params(axis='both', left=False, bottom=False) # remove Y axis ticks\n",
    "ax.yaxis.set_major_formatter(ticker.PercentFormatter(xmax=1, decimals=0)) # turn y axis decimals into %s\n",
    "\n",
    "for label in ax.get_yticklabels():\n",
    "    label.set_fontproperties(prop)\n",
    "    label.set_fontsize(8) \n",
    "    \n",
    "for label in ax.get_xticklabels():\n",
    "    label.set_fontproperties(prop)\n",
    "    label.set_fontsize(9)   \n",
    "    \n",
    "ax.legend(prop=prop, loc='lower center', bbox_to_anchor=(0.5, legendheight), frameon=False, ncol=len(g.columns))\n",
    "    \n",
    "ax.spines['top'].set_visible(False)\n",
    "ax.spines['right'].set_visible(False)\n",
    "ax.spines['bottom'].set_visible(True)\n",
    "ax.spines['left'].set_visible(False)\n",
    "\n",
    "ax.set(ylim=(0, (g.max().max() * 1.3).round(2)))\n",
    "ax.set(ylim=(0, 1))\n",
    "#ax.set(ylim=(-.5, .5))\n",
    "plt.show()"
   ]
  },
  {
   "cell_type": "code",
   "execution_count": null,
   "id": "395faae7",
   "metadata": {},
   "outputs": [],
   "source": [
    "#### if good, export\n",
    "ax.get_figure().savefig(filename + '.jpg', dpi=300, bbox_inches='tight')"
   ]
  },
  {
   "cell_type": "code",
   "execution_count": 15,
   "id": "2ca12184",
   "metadata": {},
   "outputs": [
    {
     "data": {
      "image/png": "[encoded data removed]",
      "text/plain": [
       "<Figure size 648x360 with 1 Axes>"
      ]
     },
     "execution_count": 15,
     "metadata": {},
     "output_type": "execute_result"
    }
   ],
   "source": [
    "# if not, run this code to wrap text and export\n",
    "positions = range(0,len(g.index))\n",
    "ax.xaxis.set_major_locator(ticker.FixedLocator(positions))\n",
    "\n",
    "wrap_labels(ax, 18)\n",
    "\n",
    "legendheight = -0.25\n",
    "ax.legend(prop=prop, loc='lower center', bbox_to_anchor=(0.5, legendheight), frameon=False, ncol=len(g.columns))\n",
    "\n",
    "ax.get_figure().savefig(filename + '.jpg', dpi=300, bbox_inches='tight')\n",
    "ax.figure"
   ]
  },
  {
   "cell_type": "markdown",
   "id": "b6c52a7d",
   "metadata": {},
   "source": [
    "# $ graphs"
   ]
  },
  {
   "cell_type": "code",
   "execution_count": 4,
   "id": "bf275be7",
   "metadata": {},
   "outputs": [
    {
     "data": {
      "text/html": [
       "<div>\n",
       "<style scoped>\n",
       "    .dataframe tbody tr th:only-of-type {\n",
       "        vertical-align: middle;\n",
       "    }\n",
       "\n",
       "    .dataframe tbody tr th {\n",
       "        vertical-align: top;\n",
       "    }\n",
       "\n",
       "    .dataframe thead th {\n",
       "        text-align: right;\n",
       "    }\n",
       "</style>\n",
       "<table border=\"1\" class=\"dataframe\">\n",
       "  <thead>\n",
       "    <tr style=\"text-align: right;\">\n",
       "      <th></th>\n",
       "      <th>Urban</th>\n",
       "      <th>Rural</th>\n",
       "    </tr>\n",
       "    <tr>\n",
       "      <th>County Median Household Income (2019)</th>\n",
       "      <th></th>\n",
       "      <th></th>\n",
       "    </tr>\n",
       "  </thead>\n",
       "  <tbody>\n",
       "    <tr>\n",
       "      <th>Coastal West</th>\n",
       "      <td>67832.0</td>\n",
       "      <td>51779.0</td>\n",
       "    </tr>\n",
       "    <tr>\n",
       "      <th>Interior Northwest</th>\n",
       "      <td>57935.0</td>\n",
       "      <td>50496.0</td>\n",
       "    </tr>\n",
       "    <tr>\n",
       "      <th>Mid-Atlantic</th>\n",
       "      <td>64327.0</td>\n",
       "      <td>49140.0</td>\n",
       "    </tr>\n",
       "    <tr>\n",
       "      <th>Midwest</th>\n",
       "      <td>61466.0</td>\n",
       "      <td>52844.0</td>\n",
       "    </tr>\n",
       "    <tr>\n",
       "      <th>New England</th>\n",
       "      <td>74397.0</td>\n",
       "      <td>52314.0</td>\n",
       "    </tr>\n",
       "    <tr>\n",
       "      <th>South</th>\n",
       "      <td>52890.0</td>\n",
       "      <td>41309.0</td>\n",
       "    </tr>\n",
       "    <tr>\n",
       "      <th>Southwest</th>\n",
       "      <td>65427.0</td>\n",
       "      <td>47733.0</td>\n",
       "    </tr>\n",
       "    <tr>\n",
       "      <th>Total</th>\n",
       "      <td>59186.0</td>\n",
       "      <td>48544.0</td>\n",
       "    </tr>\n",
       "  </tbody>\n",
       "</table>\n",
       "</div>"
      ],
      "text/plain": [
       "                                         Urban    Rural\n",
       "County Median Household Income (2019)                  \n",
       "Coastal West                           67832.0  51779.0\n",
       "Interior Northwest                     57935.0  50496.0\n",
       "Mid-Atlantic                           64327.0  49140.0\n",
       "Midwest                                61466.0  52844.0\n",
       "New England                            74397.0  52314.0\n",
       "South                                  52890.0  41309.0\n",
       "Southwest                              65427.0  47733.0\n",
       "Total                                  59186.0  48544.0"
      ]
     },
     "execution_count": 4,
     "metadata": {},
     "output_type": "execute_result"
    }
   ],
   "source": [
    "# adjust\n",
    "#file = folder[n]\n",
    "file = 'ch2_fig14.csv'\n",
    "g = pd.read_csv(file)\n",
    "g = g.set_index(g.iloc[:,0])\n",
    "g = g.drop(g.iloc[:,0].name, axis=1)\n",
    "#g = g.dropna()\n",
    "#g.Urban = g.Urban.str[1:].replace(',','', regex=True).astype(float)\n",
    "#g.Rural = g.Rural.str[1:].replace(',','', regex=True).astype(float)\n",
    "g"
   ]
  },
  {
   "cell_type": "code",
   "execution_count": null,
   "id": "a68b545c",
   "metadata": {},
   "outputs": [],
   "source": [
    "g.index.name = 'County Median Household Income (2019)'"
   ]
  },
  {
   "cell_type": "code",
   "execution_count": null,
   "id": "b4ad54b9",
   "metadata": {},
   "outputs": [],
   "source": [
    "# IF looks good, overwrite saved file\n",
    "g.to_csv(file)"
   ]
  },
  {
   "cell_type": "code",
   "execution_count": 5,
   "id": "dc0759ac",
   "metadata": {},
   "outputs": [
    {
     "name": "stderr",
     "output_type": "stream",
     "text": [
      "/var/folders/zt/6n98kvbj18gbkhpx3fc08jx80000gn/T/ipykernel_40834/1800172717.py:46: UserWarning: FixedFormatter should only be used together with FixedLocator\n",
      "  ax.set_yticklabels(['$' + '{:,.0f}'.format(x) for x in ax.get_yticks()])\n"
     ]
    },
    {
     "data": {
      "image/png": "[encoded data removed]",
      "text/plain": [
       "<Figure size 648x360 with 1 Axes>"
      ]
     },
     "metadata": {
      "needs_background": "light"
     },
     "output_type": "display_data"
    }
   ],
   "source": [
    "# set graph specs\n",
    "legendheight = -0.25\n",
    "width = 0.225\n",
    "title = g.index.name\n",
    "#ytitle = 'Response Percentage'\n",
    "bartextsize = 9\n",
    "filename = file[:-4]\n",
    "\n",
    "# define function to add label to top of bars\n",
    "def autolabel(bars):\n",
    "    for bar in bars:\n",
    "        height = bar.get_height()\n",
    "        ax.annotate('$' + str((height)),\n",
    "                    xy=(bar.get_x() + bar.get_width()/2, height + 0.01),\n",
    "                    ha='center',\n",
    "                    fontproperties=prop,\n",
    "                    fontsize=bartextsize)\n",
    "        \n",
    "# define text wrapping function\n",
    "def wrap_labels(ax, width, break_long_words=False):\n",
    "    labels = []\n",
    "    for label in ax.get_xticklabels():\n",
    "        text = label.get_text()\n",
    "        labels.append(textwrap.fill(text, width=width,\n",
    "                                    break_long_words=break_long_words))\n",
    "    ax.set_xticklabels(labels, rotation=0) \n",
    "    \n",
    "fig, ax = plt.subplots(figsize=(9,5))\n",
    "ax.grid(visible=None, which='major', axis='y', linestyle = ':', linewidth = .75, zorder=0)\n",
    "plt.rcParams['hatch.linewidth'] = .15\n",
    "    \n",
    "x_metro = [x - width/2 - .02 for x in range(len(g.Urban))]\n",
    "x_rural = [x + width/2 + .02 for x in range(len(g.Rural))]\n",
    "\n",
    "bar1 = ax.bar(x_metro, g.Urban, width, zorder=3, label='Urban', color='black', edgecolor='black', lw=.7)\n",
    "bar2 = ax.bar(x_rural, g.Rural, width, zorder=3, label='Rural', color='white', edgecolor='black', hatch='/////////', lw=.7)\n",
    "ax.bar(g.index, 0)\n",
    "\n",
    "#autolabel(bar1)\n",
    "#autolabel(bar2)\n",
    "    \n",
    "ax.set_title(title, fontproperties=prop, size=12)\n",
    "#ax.set_ylabel(ytitle, fontproperties=prop) # set title and font\n",
    "ax.tick_params(axis='both', left=False, bottom=False) # remove Y axis ticks\n",
    "#ax.yaxis.set_major_formatter(ticker.PercentFormatter(xmax=1, decimals=0)) # turn y axis decimals into %s\n",
    "ax.set_yticklabels(['$' + '{:,.0f}'.format(x) for x in ax.get_yticks()])\n",
    "\n",
    "for label in ax.get_yticklabels():\n",
    "    label.set_fontproperties(prop)\n",
    "    label.set_fontsize(8) \n",
    "    \n",
    "for label in ax.get_xticklabels():\n",
    "    label.set_fontproperties(prop)\n",
    "    label.set_fontsize(9)   \n",
    "    \n",
    "ax.legend(prop=prop, loc='lower center', bbox_to_anchor=(0.5, legendheight), frameon=False, ncol=len(g.columns))\n",
    "    \n",
    "ax.spines['top'].set_visible(False)\n",
    "ax.spines['right'].set_visible(False)\n",
    "ax.spines['bottom'].set_visible(True)\n",
    "ax.spines['left'].set_visible(False)\n",
    "\n",
    "ax.set(ylim=(0, (g.max().max() * 1.2).round(2)))\n",
    "plt.show()"
   ]
  },
  {
   "cell_type": "code",
   "execution_count": null,
   "id": "ffba7ca7",
   "metadata": {},
   "outputs": [],
   "source": [
    "# if good, export\n",
    "ax.get_figure().savefig(filename + '.jpg', dpi=300, bbox_inches='tight')"
   ]
  },
  {
   "cell_type": "code",
   "execution_count": 6,
   "id": "f1c3d813",
   "metadata": {},
   "outputs": [
    {
     "data": {
      "image/png": "[encoded data removed]",
      "text/plain": [
       "<Figure size 648x360 with 1 Axes>"
      ]
     },
     "execution_count": 6,
     "metadata": {},
     "output_type": "execute_result"
    }
   ],
   "source": [
    "# if not, run this code to wrap text and export\n",
    "positions = range(0,len(g.index))\n",
    "ax.xaxis.set_major_locator(ticker.FixedLocator(positions))\n",
    "\n",
    "wrap_labels(ax, 5)\n",
    "\n",
    "ax.get_figure().savefig(filename + '.jpg', dpi=300, bbox_inches='tight')\n",
    "ax.figure"
   ]
  },
  {
   "cell_type": "markdown",
   "id": "4c31e44e",
   "metadata": {},
   "source": [
    "# Special comparisons"
   ]
  },
  {
   "cell_type": "code",
   "execution_count": null,
   "id": "0822b52b",
   "metadata": {},
   "outputs": [],
   "source": [
    "# adjust\n",
    "file = folder[n]\n",
    "\n",
    "g = pd.read_csv(file)\n",
    "g = g.set_index(g.iloc[:,0])\n",
    "g = g.drop(g.iloc[:,0].name, axis=1)\n",
    "#g = g.drop('Diff', axis=1)\n",
    "#g['<$10K'] = g['<$10K'].str[:-1].astype(float) / 100\n",
    "#g['≥$150K'] = g['≥$150K'].str[:-1].astype(float) / 100\n",
    "#g.Diff = g.Rural.str[:-1].astype(float) / 100\n",
    "#g = g.iloc[:,:2]\n",
    "g"
   ]
  },
  {
   "cell_type": "code",
   "execution_count": null,
   "id": "8b6c4d0c",
   "metadata": {},
   "outputs": [],
   "source": [
    "g.iloc[11:13]"
   ]
  },
  {
   "cell_type": "code",
   "execution_count": null,
   "id": "c007e076",
   "metadata": {},
   "outputs": [],
   "source": [
    "g.index.name = 'City/Town/Rural Yearly Household Income Comparison (2019)'"
   ]
  },
  {
   "cell_type": "code",
   "execution_count": null,
   "id": "1bfb295f",
   "metadata": {},
   "outputs": [],
   "source": [
    "# save\n",
    "g.to_csv(file)"
   ]
  },
  {
   "cell_type": "code",
   "execution_count": null,
   "id": "b8d0efc0",
   "metadata": {},
   "outputs": [],
   "source": [
    "# set graph specs\n",
    "legendheight = -0.2\n",
    "width = 0.225\n",
    "title = g.index.name\n",
    "bartextsize = 9\n",
    "filename = file[:-4]\n",
    "\n",
    "# define function to add label to top of bars\n",
    "def autolabel(bars):\n",
    "    for bar in bars:\n",
    "        height = bar.get_height()\n",
    "        ax.annotate(str((height * 100).round(1)) + '%',\n",
    "                    xy=(bar.get_x() + bar.get_width()/2, height + 0.003),\n",
    "                    ha='center',\n",
    "                    fontproperties=prop,\n",
    "                    fontsize=bartextsize)\n",
    "        \n",
    "# define text wrapping function\n",
    "def wrap_labels(ax, width, break_long_words=False):\n",
    "    labels = []\n",
    "    for label in ax.get_xticklabels():\n",
    "        text = label.get_text()\n",
    "        labels.append(textwrap.fill(text, width=width,\n",
    "                                    break_long_words=break_long_words))\n",
    "    ax.set_xticklabels(labels, rotation=0) \n",
    "    \n",
    "fig, ax = plt.subplots(figsize=(9,5))\n",
    "ax.grid(visible=None, which='major', axis='y', linestyle = ':', linewidth = .75, zorder=0)\n",
    "plt.rcParams['hatch.linewidth'] = .15\n",
    "    \n",
    "x1 = [x - width/2 - .02 for x in range(len(g))]\n",
    "x2 = [x + width/2 + .02 for x in range(len(g))]\n",
    "\n",
    "bar1 = ax.bar(x1[:3], g.iloc[:3,0], width, zorder=3, label='< $10k/yr', color='black', edgecolor='black', lw=.7)\n",
    "bar2 = ax.bar(x2[:3], g.iloc[:3,1], width, zorder=3, label='≥ $150k/yr', color='white', edgecolor='black', hatch='/////////', lw=.7)\n",
    "ax.bar(g.iloc[:3,0].index, 0)\n",
    "\n",
    "autolabel(bar1)\n",
    "autolabel(bar2)\n",
    "    \n",
    "ax.set_title(title, fontproperties=prop, size=12)\n",
    "#ax.set_ylabel(ytitle, fontproperties=prop) # set title and font\n",
    "ax.tick_params(axis='both', left=False, bottom=False) # remove Y axis ticks\n",
    "ax.yaxis.set_major_formatter(ticker.PercentFormatter(xmax=1, decimals=0)) # turn y axis decimals into %s\n",
    "\n",
    "for label in ax.get_yticklabels():\n",
    "    label.set_fontproperties(prop)\n",
    "    label.set_fontsize(8) \n",
    "    \n",
    "for label in ax.get_xticklabels():\n",
    "    label.set_fontproperties(prop)\n",
    "    label.set_fontsize(9)   \n",
    "    \n",
    "ax.legend(prop=prop, loc='lower center', bbox_to_anchor=(0.5, legendheight), frameon=False, ncol=len(g.columns))\n",
    "    \n",
    "ax.spines['top'].set_visible(False)\n",
    "ax.spines['right'].set_visible(False)\n",
    "ax.spines['bottom'].set_visible(True)\n",
    "ax.spines['left'].set_visible(False)\n",
    "\n",
    "ax.set(ylim=(0, (g.max().max() * 1.2).round(2)))\n",
    "#ax.set(ylim=(0,.1))\n",
    "plt.show()"
   ]
  },
  {
   "cell_type": "code",
   "execution_count": null,
   "id": "bd398e7e",
   "metadata": {},
   "outputs": [],
   "source": [
    "# if good, export\n",
    "ax.get_figure().savefig(filename + '.jpg', dpi=300, bbox_inches='tight')"
   ]
  },
  {
   "cell_type": "code",
   "execution_count": null,
   "id": "655981b8",
   "metadata": {},
   "outputs": [],
   "source": [
    "# if not, run this code to wrap text and export\n",
    "positions = range(0,len(g.iloc[:5].index))\n",
    "ax.xaxis.set_major_locator(ticker.FixedLocator(positions))\n",
    "\n",
    "wrap_labels(ax, 20)\n",
    "\n",
    "legendheight = -0.25\n",
    "ax.legend(prop=prop, loc='lower center', bbox_to_anchor=(0.5, legendheight), frameon=False, ncol=len(g.columns))\n",
    "\n",
    "ax.get_figure().savefig(filename + '_1.jpg', dpi=300, bbox_inches='tight')\n",
    "ax.figure"
   ]
  },
  {
   "cell_type": "code",
   "execution_count": null,
   "id": "49da797d",
   "metadata": {},
   "outputs": [],
   "source": [
    "# set graph specs\n",
    "legendheight = -0.2\n",
    "width = 0.225\n",
    "title = g.index.name\n",
    "bartextsize = 9\n",
    "filename = file[:-4]\n",
    "\n",
    "# define function to add label to top of bars\n",
    "def autolabel(bars):\n",
    "    for bar in bars:\n",
    "        height = bar.get_height()\n",
    "        ax.annotate(str((height * 100).round(1)) + '%',\n",
    "                    xy=(bar.get_x() + bar.get_width()/2, height + 0.003),\n",
    "                    ha='center',\n",
    "                    fontproperties=prop,\n",
    "                    fontsize=bartextsize)\n",
    "        \n",
    "# define text wrapping function\n",
    "def wrap_labels(ax, width, break_long_words=False):\n",
    "    labels = []\n",
    "    for label in ax.get_xticklabels():\n",
    "        text = label.get_text()\n",
    "        labels.append(textwrap.fill(text, width=width,\n",
    "                                    break_long_words=break_long_words))\n",
    "    ax.set_xticklabels(labels, rotation=0) \n",
    "    \n",
    "fig, ax = plt.subplots(figsize=(9,5))\n",
    "ax.grid(visible=None, which='major', axis='y', linestyle = ':', linewidth = .75, zorder=0)\n",
    "plt.rcParams['hatch.linewidth'] = .15\n",
    "    \n",
    "x1 = [x - width/2 - .02 for x in range(len(g))]\n",
    "x2 = [x + width/2 + .02 for x in range(len(g))]\n",
    "\n",
    "bar1 = ax.bar(x1[5:7], g.iloc[5:7,0], width, zorder=3, label='< $10k/yr', color='black', edgecolor='black', lw=.7)\n",
    "bar2 = ax.bar(x2[5:7], g.iloc[5:7,1], width, zorder=3, label='≥ $150k/yr', color='white', edgecolor='black', hatch='/////////', lw=.7)\n",
    "#ax.bar(g.iloc[5:7,0].index, 0)\n",
    "\n",
    "autolabel(bar1)\n",
    "autolabel(bar2)\n",
    "    \n",
    "ax.set_title(title, fontproperties=prop, size=12)\n",
    "#ax.set_ylabel(ytitle, fontproperties=prop) # set title and font\n",
    "ax.tick_params(axis='both', left=False, bottom=False) # remove Y axis ticks\n",
    "ax.yaxis.set_major_formatter(ticker.PercentFormatter(xmax=1, decimals=0)) # turn y axis decimals into %s\n",
    "\n",
    "for label in ax.get_yticklabels():\n",
    "    label.set_fontproperties(prop)\n",
    "    label.set_fontsize(8) \n",
    "    \n",
    "for label in ax.get_xticklabels():\n",
    "    label.set_fontproperties(prop)\n",
    "    label.set_fontsize(9)   \n",
    "    \n",
    "ax.legend(prop=prop, loc='lower center', bbox_to_anchor=(0.5, legendheight), frameon=False, ncol=len(g.columns))\n",
    "    \n",
    "ax.spines['top'].set_visible(False)\n",
    "ax.spines['right'].set_visible(False)\n",
    "ax.spines['bottom'].set_visible(True)\n",
    "ax.spines['left'].set_visible(False)\n",
    "\n",
    "ax.set(ylim=(0, (g.max().max() * 1.2).round(2)))\n",
    "#ax.set(ylim=(0,.1))\n",
    "plt.xticks(ticks=[5.0, 6.0], labels=['Philadelphia County, PA\\n(Philadelphia)', 'Rural Pennsylvania\\n(counties pooled)'])\n",
    "plt.show()"
   ]
  },
  {
   "cell_type": "code",
   "execution_count": null,
   "id": "b7926226",
   "metadata": {},
   "outputs": [],
   "source": [
    "# if good, export\n",
    "ax.get_figure().savefig(filename + '_2.jpg', dpi=300, bbox_inches='tight')"
   ]
  },
  {
   "cell_type": "code",
   "execution_count": null,
   "id": "6cc9f02c",
   "metadata": {},
   "outputs": [],
   "source": [
    "# set graph specs\n",
    "legendheight = -0.2\n",
    "width = 0.225\n",
    "title = g.index.name\n",
    "bartextsize = 9\n",
    "filename = file[:-4]\n",
    "\n",
    "# define function to add label to top of bars\n",
    "def autolabel(bars):\n",
    "    for bar in bars:\n",
    "        height = bar.get_height()\n",
    "        ax.annotate(str((height * 100).round(1)) + '%',\n",
    "                    xy=(bar.get_x() + bar.get_width()/2, height + 0.003),\n",
    "                    ha='center',\n",
    "                    fontproperties=prop,\n",
    "                    fontsize=bartextsize)\n",
    "        \n",
    "# define text wrapping function\n",
    "def wrap_labels(ax, width, break_long_words=False):\n",
    "    labels = []\n",
    "    for label in ax.get_xticklabels():\n",
    "        text = label.get_text()\n",
    "        labels.append(textwrap.fill(text, width=width,\n",
    "                                    break_long_words=break_long_words))\n",
    "    ax.set_xticklabels(labels, rotation=0) \n",
    "    \n",
    "fig, ax = plt.subplots(figsize=(9,5))\n",
    "ax.grid(visible=None, which='major', axis='y', linestyle = ':', linewidth = .75, zorder=0)\n",
    "plt.rcParams['hatch.linewidth'] = .15\n",
    "    \n",
    "x1 = [x - width/2 - .02 for x in range(len(g))]\n",
    "x2 = [x + width/2 + .02 for x in range(len(g))]\n",
    "\n",
    "bar1 = ax.bar(x1[8:10], g.iloc[8:10,0], width, zorder=3, label='< $10k/yr', color='black', edgecolor='black', lw=.7)\n",
    "bar2 = ax.bar(x2[8:10], g.iloc[8:10,1], width, zorder=3, label='≥ $150k/yr', color='white', edgecolor='black', hatch='/////////', lw=.7)\n",
    "#ax.bar(g.iloc[5:7,0].index, 0)\n",
    "\n",
    "autolabel(bar1)\n",
    "autolabel(bar2)\n",
    "    \n",
    "ax.set_title(title, fontproperties=prop, size=12)\n",
    "#ax.set_ylabel(ytitle, fontproperties=prop) # set title and font\n",
    "ax.tick_params(axis='both', left=False, bottom=False) # remove Y axis ticks\n",
    "ax.yaxis.set_major_formatter(ticker.PercentFormatter(xmax=1, decimals=0)) # turn y axis decimals into %s\n",
    "\n",
    "for label in ax.get_yticklabels():\n",
    "    label.set_fontproperties(prop)\n",
    "    label.set_fontsize(8) \n",
    "    \n",
    "for label in ax.get_xticklabels():\n",
    "    label.set_fontproperties(prop)\n",
    "    label.set_fontsize(9)   \n",
    "    \n",
    "ax.legend(prop=prop, loc='lower center', bbox_to_anchor=(0.5, legendheight), frameon=False, ncol=len(g.columns))\n",
    "    \n",
    "ax.spines['top'].set_visible(False)\n",
    "ax.spines['right'].set_visible(False)\n",
    "ax.spines['bottom'].set_visible(True)\n",
    "ax.spines['left'].set_visible(False)\n",
    "\n",
    "ax.set(ylim=(0, (g.max().max() * 1.2).round(2)))\n",
    "#ax.set(ylim=(0,.1))\n",
    "plt.xticks(ticks=[8.0, 9.0], labels=['Los Angeles County, CA\\n(Greater LA)', 'Rural California\\n(counties pooled)'])\n",
    "plt.show()"
   ]
  },
  {
   "cell_type": "code",
   "execution_count": null,
   "id": "33e29a11",
   "metadata": {},
   "outputs": [],
   "source": [
    "# if good, export\n",
    "ax.get_figure().savefig(filename + '_3.jpg', dpi=300, bbox_inches='tight')"
   ]
  },
  {
   "cell_type": "code",
   "execution_count": null,
   "id": "2d2a6fc7",
   "metadata": {},
   "outputs": [],
   "source": [
    "# set graph specs\n",
    "legendheight = -0.2\n",
    "width = 0.225\n",
    "title = g.index.name\n",
    "bartextsize = 9\n",
    "filename = file[:-4]\n",
    "\n",
    "# define function to add label to top of bars\n",
    "def autolabel(bars):\n",
    "    for bar in bars:\n",
    "        height = bar.get_height()\n",
    "        ax.annotate(str((height * 100).round(1)) + '%',\n",
    "                    xy=(bar.get_x() + bar.get_width()/2, height + 0.003),\n",
    "                    ha='center',\n",
    "                    fontproperties=prop,\n",
    "                    fontsize=bartextsize)\n",
    "        \n",
    "# define text wrapping function\n",
    "def wrap_labels(ax, width, break_long_words=False):\n",
    "    labels = []\n",
    "    for label in ax.get_xticklabels():\n",
    "        text = label.get_text()\n",
    "        labels.append(textwrap.fill(text, width=width,\n",
    "                                    break_long_words=break_long_words))\n",
    "    ax.set_xticklabels(labels, rotation=0) \n",
    "    \n",
    "fig, ax = plt.subplots(figsize=(9,5))\n",
    "ax.grid(visible=None, which='major', axis='y', linestyle = ':', linewidth = .75, zorder=0)\n",
    "plt.rcParams['hatch.linewidth'] = .15\n",
    "    \n",
    "x1 = [x - width/2 - .02 for x in range(len(g))]\n",
    "x2 = [x + width/2 + .02 for x in range(len(g))]\n",
    "\n",
    "bar1 = ax.bar(x1[11:13], g.iloc[11:13,0], width, zorder=3, label='< $10k/yr', color='black', edgecolor='black', lw=.7)\n",
    "bar2 = ax.bar(x2[11:13], g.iloc[11:13,1], width, zorder=3, label='≥ $150k/yr', color='white', edgecolor='black', hatch='/////////', lw=.7)\n",
    "#ax.bar(g.iloc[5:7,0].index, 0)\n",
    "\n",
    "autolabel(bar1)\n",
    "autolabel(bar2)\n",
    "    \n",
    "ax.set_title(title, fontproperties=prop, size=12)\n",
    "#ax.set_ylabel(ytitle, fontproperties=prop) # set title and font\n",
    "ax.tick_params(axis='both', left=False, bottom=False) # remove Y axis ticks\n",
    "ax.yaxis.set_major_formatter(ticker.PercentFormatter(xmax=1, decimals=0)) # turn y axis decimals into %s\n",
    "\n",
    "for label in ax.get_yticklabels():\n",
    "    label.set_fontproperties(prop)\n",
    "    label.set_fontsize(8) \n",
    "    \n",
    "for label in ax.get_xticklabels():\n",
    "    label.set_fontproperties(prop)\n",
    "    label.set_fontsize(9)   \n",
    "    \n",
    "ax.legend(prop=prop, loc='lower center', bbox_to_anchor=(0.5, legendheight), frameon=False, ncol=len(g.columns))\n",
    "    \n",
    "ax.spines['top'].set_visible(False)\n",
    "ax.spines['right'].set_visible(False)\n",
    "ax.spines['bottom'].set_visible(True)\n",
    "ax.spines['left'].set_visible(False)\n",
    "\n",
    "ax.set(ylim=(0, (g.max().max() * 1.2).round(2)))\n",
    "#ax.set(ylim=(0,.1))\n",
    "plt.xticks(ticks=[11.0, 12.0], labels=['Suffolk County, MA\\n(Boston)', 'Rural Massachusetts\\n(counties pooled)'])\n",
    "plt.show()"
   ]
  },
  {
   "cell_type": "code",
   "execution_count": null,
   "id": "9bf67444",
   "metadata": {},
   "outputs": [],
   "source": [
    "# if good, export\n",
    "ax.get_figure().savefig(filename + '_4.jpg', dpi=300, bbox_inches='tight')"
   ]
  },
  {
   "cell_type": "markdown",
   "id": "9c96f6c2",
   "metadata": {},
   "source": [
    "# Time series graphs"
   ]
  },
  {
   "cell_type": "code",
   "execution_count": null,
   "id": "f3066e16",
   "metadata": {},
   "outputs": [],
   "source": [
    "# files in folder position 17 & 18\n",
    "file = folder[n]\n",
    "\n",
    "g = pd.read_csv(file)\n",
    "g = g.set_index([g.iloc[:,0], g.iloc[:,1]])\n",
    "g = g.drop(g.iloc[:,0].name, axis=1)\n",
    "g = g.drop(g.iloc[:,0].name, axis=1)\n",
    "g = g.dropna(axis=1)\n",
    "g['1990'] = g['1990'].str[:-1].astype(float) / 100\n",
    "g['2000'] = g['2000'].str[:-1].astype(float) / 100\n",
    "g['2010'] = g['2010'].str[:-1].astype(float) / 100\n",
    "g['2019'] = g['2019'].str[:-1].astype(float) / 100\n",
    "tg2 = g\n",
    "tg2"
   ]
  },
  {
   "cell_type": "code",
   "execution_count": null,
   "id": "4e5e2427",
   "metadata": {},
   "outputs": [],
   "source": [
    "# export\n",
    "tg2.T.to_csv('ch2_fig18.csv')"
   ]
  },
  {
   "cell_type": "markdown",
   "id": "4110ed14",
   "metadata": {},
   "source": [
    "# Single bar graph"
   ]
  },
  {
   "cell_type": "code",
   "execution_count": null,
   "id": "f107c907",
   "metadata": {},
   "outputs": [],
   "source": [
    "folder[n]"
   ]
  },
  {
   "cell_type": "code",
   "execution_count": null,
   "id": "6052df42",
   "metadata": {},
   "outputs": [],
   "source": [
    "# adjust\n",
    "#file = folder[n]\n",
    "file = 'ch2_fig28.csv'\n",
    "g = pd.read_csv(file)\n",
    "g = g.set_index(g.iloc[:,0])\n",
    "g = g.drop(g.iloc[:,0].name, axis=1)\n",
    "#g = g.iloc[:,0].dropna()\n",
    "#g = g.str[:-1].astype(float) / 100\n",
    "g"
   ]
  },
  {
   "cell_type": "code",
   "execution_count": null,
   "id": "2ba0f781",
   "metadata": {},
   "outputs": [],
   "source": [
    "#g.index.name = 'Professional, Scientific, & Technical Services Sector Growth Rates'"
   ]
  },
  {
   "cell_type": "code",
   "execution_count": null,
   "id": "e541b3d6",
   "metadata": {},
   "outputs": [],
   "source": [
    "g.to_csv(file)"
   ]
  },
  {
   "cell_type": "code",
   "execution_count": null,
   "id": "a5b9948b",
   "metadata": {},
   "outputs": [],
   "source": [
    "g.iloc[:,0]"
   ]
  },
  {
   "cell_type": "code",
   "execution_count": null,
   "id": "af733368",
   "metadata": {},
   "outputs": [],
   "source": [
    "# set graph specs\n",
    "legendheight = -0.25\n",
    "width = 0.7\n",
    "title = g.index.name\n",
    "bartextsize = 9\n",
    "filename = file[:-4]\n",
    "\n",
    "# define function to add label to top of bars\n",
    "def autolabel(bars):\n",
    "    for bar in bars:\n",
    "        height = bar.get_height()\n",
    "        if height > 0:\n",
    "            height = height + .0225\n",
    "        else:\n",
    "            height = height - .055\n",
    "        ax.annotate(str((height * 100).round(1)) + '%',\n",
    "                    xy=(bar.get_x() + bar.get_width()/2, height),\n",
    "                    ha='center',\n",
    "                    fontproperties=prop,\n",
    "                    fontsize=bartextsize)\n",
    "        \n",
    "# define text wrapping function\n",
    "def wrap_labels(ax, width, break_long_words=False):\n",
    "    labels = []\n",
    "    for label in ax.get_xticklabels():\n",
    "        text = label.get_text()\n",
    "        labels.append(textwrap.fill(text, width=width,\n",
    "                                    break_long_words=break_long_words))\n",
    "    ax.set_xticklabels(labels, rotation=0) \n",
    "    \n",
    "fig, ax = plt.subplots(figsize=(9,5))\n",
    "ax.grid(visible=None, which='major', axis='y', linestyle = ':', linewidth = .75, zorder=0)\n",
    "plt.rcParams['hatch.linewidth'] = .15\n",
    "    \n",
    "bar1 = ax.bar(g.index, g.iloc[:,0], width, zorder=3, label=None, color='black', edgecolor='black', lw=.7)\n",
    "\n",
    "#bar1 = ax.bar(g.index, g.values, width, zorder=3, label='Metro', color='black', edgecolor='black', lw=.7)\n",
    "\n",
    "autolabel(bar1)\n",
    "#autolabel(bar2)\n",
    "    \n",
    "ax.set_title(title, fontproperties=prop, size=12)\n",
    "#ax.set_ylabel(ytitle, fontproperties=prop) # set title and font\n",
    "ax.tick_params(axis='both', left=False, bottom=False) # remove Y axis ticks\n",
    "ax.yaxis.set_major_formatter(ticker.PercentFormatter(xmax=1, decimals=0)) # turn y axis decimals into %s\n",
    "\n",
    "for label in ax.get_yticklabels():\n",
    "    label.set_fontproperties(prop)\n",
    "    label.set_fontsize(8) \n",
    "    \n",
    "for label in ax.get_xticklabels():\n",
    "    label.set_fontproperties(prop)\n",
    "    label.set_fontsize(9)   \n",
    "    \n",
    "#ax.legend(prop=prop, loc='lower center', bbox_to_anchor=(0.5, legendheight), frameon=False, ncol=len(g.columns))\n",
    "    \n",
    "ax.spines['top'].set_visible(False)\n",
    "ax.spines['right'].set_visible(False)\n",
    "ax.spines['bottom'].set_visible(True)\n",
    "ax.spines['left'].set_visible(False)\n",
    "\n",
    "ax.set(ylim=(0, (g.max().max() * 1.15).round(2)))\n",
    "#ax.set(ylim=(-.75,.75))\n",
    "plt.show()"
   ]
  },
  {
   "cell_type": "code",
   "execution_count": null,
   "id": "65463a31",
   "metadata": {},
   "outputs": [],
   "source": [
    "# if good, export\n",
    "ax.get_figure().savefig(filename + '.jpg', dpi=300, bbox_inches='tight')"
   ]
  },
  {
   "cell_type": "code",
   "execution_count": null,
   "id": "6c9fbeb1",
   "metadata": {},
   "outputs": [],
   "source": [
    "# if not, run this code to wrap text and export\n",
    "positions = range(0,len(g.index))\n",
    "ax.xaxis.set_major_locator(ticker.FixedLocator(positions))\n",
    "\n",
    "wrap_labels(ax, 5)\n",
    "\n",
    "ax.get_figure().savefig(filename + '.jpg', dpi=300, bbox_inches='tight')\n",
    "ax.figure"
   ]
  },
  {
   "cell_type": "code",
   "execution_count": null,
   "id": "9e15ab32",
   "metadata": {},
   "outputs": [],
   "source": []
  }
 ],
 "metadata": {
  "kernelspec": {
   "display_name": "Python (ppd599)",
   "language": "python",
   "name": "ppd599"
  },
  "language_info": {
   "codemirror_mode": {
    "name": "ipython",
    "version": 3
   },
   "file_extension": ".py",
   "mimetype": "text/x-python",
   "name": "python",
   "nbconvert_exporter": "python",
   "pygments_lexer": "ipython3",
   "version": "3.9.2"
  }
 },
 "nbformat": 4,
 "nbformat_minor": 5
}
